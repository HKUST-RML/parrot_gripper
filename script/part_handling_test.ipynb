{
 "cells": [
  {
   "cell_type": "code",
   "execution_count": 1,
   "id": "6e301770",
   "metadata": {},
   "outputs": [],
   "source": [
    "#!/usr/bin/env python3\n",
    "import time\n",
    "import numpy as np\n",
    "from math import *\n",
    "import matplotlib.pyplot as plt\n",
    "from scipy import interpolate"
   ]
  },
  {
   "cell_type": "code",
   "execution_count": 2,
   "id": "6592865d",
   "metadata": {},
   "outputs": [
    {
     "name": "stdout",
     "output_type": "stream",
     "text": [
      "<Transform:\n",
      "<Orientation: \n",
      "array([[ 9.99999997e-01, -1.02598458e-05, -8.00494962e-05],\n",
      "       [-1.02572698e-05, -9.99999999e-01,  3.21798675e-05],\n",
      "       [-8.00498263e-05, -3.21790463e-05, -9.99999996e-01]])>\n",
      "<Vector: (-0.08997, 0.48651, 0.40321)>\n",
      ">\n"
     ]
    }
   ],
   "source": [
    "#urx for ur10 and gripper\n",
    "import urx\n",
    "import math3d as m3d\n",
    "from urx.robotiq_two_finger_gripper import Robotiq_Two_Finger_Gripper\n",
    "ur = urx.Robot(\"192.168.1.102\")\n",
    "gripper = Robotiq_Two_Finger_Gripper(ur)\n",
    "ur.set_tcp((0, 0, 0, 0, 0, 0))\n",
    "tcp_acc=0.05\n",
    "tcp_vel=0.05\n",
    "time.sleep(0.2)\n",
    "pose = ur.get_pose()\n",
    "print(pose)"
   ]
  },
  {
   "cell_type": "code",
   "execution_count": 3,
   "id": "d134fa27",
   "metadata": {},
   "outputs": [
    {
     "name": "stdout",
     "output_type": "stream",
     "text": [
      "finding an odrive...\n",
      "Odrive Voltage: 13.302319526672363\n"
     ]
    }
   ],
   "source": [
    "import palm"
   ]
  },
  {
   "cell_type": "code",
   "execution_count": 104,
   "id": "d980f865",
   "metadata": {},
   "outputs": [
    {
     "name": "stdout",
     "output_type": "stream",
     "text": [
      "disabling motor control...\n"
     ]
    }
   ],
   "source": [
    "palm.disable_motor()"
   ]
  },
  {
   "cell_type": "markdown",
   "id": "a8973110",
   "metadata": {},
   "source": [
    "## init hardware"
   ]
  },
  {
   "cell_type": "code",
   "execution_count": 4,
   "id": "f70e57ea",
   "metadata": {},
   "outputs": [],
   "source": [
    "gripper.gripper_activate()\n",
    "time.sleep(1)\n",
    "ur.set_tcp((0, 0, 0.295, 0, 0, 0)) #upper jaw's tip to tool0 29.5mm\n",
    "int_list=np.array([0,170, 175, 180, 185, 190, 195, 200, 205, 210, 215,250])\n",
    "distance_list= np.array([118,28,25,22,19,17,14,10,8,5,2,0])/1000.0 \n",
    "func_from_distance_to_int = interpolate.interp1d(distance_list, int_list, kind = 3)\n",
    "grasp_width = 0.1\n",
    "gripper.gripper_action(int(func_from_distance_to_int(grasp_width))) "
   ]
  },
  {
   "cell_type": "code",
   "execution_count": 50,
   "id": "ea723467",
   "metadata": {},
   "outputs": [
    {
     "name": "stdout",
     "output_type": "stream",
     "text": [
      "homing...\n",
      "enabling motor control...\n"
     ]
    }
   ],
   "source": [
    "palm.home()"
   ]
  },
  {
   "cell_type": "markdown",
   "id": "ac813572",
   "metadata": {},
   "source": [
    "#### pick object"
   ]
  },
  {
   "cell_type": "code",
   "execution_count": 95,
   "id": "bd4d67ae",
   "metadata": {},
   "outputs": [
    {
     "name": "stdout",
     "output_type": "stream",
     "text": [
      "homing...\n",
      "enabling motor control...\n"
     ]
    },
    {
     "data": {
      "text/plain": [
       "<Transform:\n",
       "<Orientation: \n",
       "array([[ 9.49354460e-01, -1.28937823e-04,  3.14207085e-01],\n",
       "       [ 3.70788730e-04, -9.99998760e-01, -1.53067076e-03],\n",
       "       [ 3.14206893e-01,  1.56965356e-03, -9.49353235e-01]])>\n",
       "<Vector: (-0.09002, 0.48645, 0.00500)>\n",
       ">"
      ]
     },
     "execution_count": 95,
     "metadata": {},
     "output_type": "execute_result"
    }
   ],
   "source": [
    "palm.home()\n",
    "gripper.gripper_action(int(func_from_distance_to_int(grasp_width))) \n",
    "ur.movel((-0.09, 0.4865, 0.005, 3.1, 0, 0.5), tcp_acc, tcp_vel)"
   ]
  },
  {
   "cell_type": "code",
   "execution_count": 96,
   "id": "b529fa58",
   "metadata": {},
   "outputs": [],
   "source": [
    "# drop_pose = ur.getl()\n",
    "# drop_pose[2] = drop_pose[2]-0.033\n",
    "# ur.movel(drop_pose, tcp_acc, tcp_vel)\n",
    "ur.movel((-0.08997965418486337,0.4865784613324623,-0.02797709706841575,3.0421275633240077,-0.00012291556244661,0.7783613527132803), tcp_acc, tcp_vel)\n",
    "time.sleep(0.5)"
   ]
  },
  {
   "cell_type": "code",
   "execution_count": 97,
   "id": "22390ec0",
   "metadata": {},
   "outputs": [
    {
     "name": "stdout",
     "output_type": "stream",
     "text": [
      "Rotated to: (-35.04591707504916, 123.32360197429976)\n"
     ]
    }
   ],
   "source": [
    "palm.goto((0,135))\n",
    "time.sleep(0.5)\n",
    "palm.goto((-5,140))\n",
    "time.sleep(0.5)\n",
    "palm.rotate((-5,140), (-8,110), 70, 1)\n",
    "time.sleep(0.5)\n",
    "palm.goto((-35,125))"
   ]
  },
  {
   "cell_type": "code",
   "execution_count": 98,
   "id": "c09e58b6",
   "metadata": {},
   "outputs": [
    {
     "data": {
      "text/plain": [
       "<Transform:\n",
       "<Orientation: \n",
       "array([[ 9.99999969e-01, -1.18225056e-04,  2.19806365e-04],\n",
       "       [-1.18204578e-04, -9.99999989e-01, -9.31746427e-05],\n",
       "       [ 2.19817378e-04,  9.31486577e-05, -9.99999972e-01]])>\n",
       "<Vector: (-0.08997, 0.48654, 0.00498)>\n",
       ">"
      ]
     },
     "execution_count": 98,
     "metadata": {},
     "output_type": "execute_result"
    }
   ],
   "source": [
    "lift = ur.getl()\n",
    "lift[2] = lift[2]+0.03\n",
    "ur.movel(lift, tcp_acc, tcp_vel)\n",
    "ur.movel((-0.09, 0.4865, 0.005, pi, 0, 0), tcp_acc, tcp_vel)"
   ]
  },
  {
   "cell_type": "code",
   "execution_count": 99,
   "id": "9cade558",
   "metadata": {},
   "outputs": [],
   "source": [
    "# palm.goto((-30,130))\n",
    "gripper.gripper_action(int(func_from_distance_to_int(grasp_width-0.07)),150) "
   ]
  },
  {
   "cell_type": "code",
   "execution_count": 100,
   "id": "716f2a29",
   "metadata": {},
   "outputs": [
    {
     "name": "stdout",
     "output_type": "stream",
     "text": [
      "enabling motor control...\n"
     ]
    }
   ],
   "source": [
    "palm.goto((-10,145))\n",
    "time.sleep(0.5)\n",
    "palm.goto((0,117))\n",
    "time.sleep(0.07)\n",
    "palm.goto((-15,117))\n",
    "time.sleep(0.5)\n",
    "palm.goto((-15,139))\n",
    "time.sleep(0.5)\n",
    "gripper.gripper_action(int(func_from_distance_to_int(grasp_width-0.049)),30) \n",
    "time.sleep(0.5)\n",
    "palm.set_hard()\n",
    "palm.goto((-15,142))\n",
    "time.sleep(1)\n",
    "palm.enable_motor()"
   ]
  },
  {
   "cell_type": "code",
   "execution_count": 101,
   "id": "b7ae30ed",
   "metadata": {},
   "outputs": [],
   "source": [
    "gripper.gripper_action(int(func_from_distance_to_int(grasp_width-0.07)),30) "
   ]
  },
  {
   "cell_type": "code",
   "execution_count": 102,
   "id": "cb9487e9",
   "metadata": {},
   "outputs": [],
   "source": [
    "palm.goto((-15,137))\n",
    "time.sleep(0.5)\n",
    "palm.goto((20,145))"
   ]
  },
  {
   "cell_type": "code",
   "execution_count": 103,
   "id": "aab9e8d4",
   "metadata": {},
   "outputs": [],
   "source": [
    "palm.goto((-30,137))\n",
    "gripper.gripper_action(int(func_from_distance_to_int(grasp_width-0.02)),30) "
   ]
  },
  {
   "cell_type": "code",
   "execution_count": 715,
   "id": "f74b8702",
   "metadata": {},
   "outputs": [],
   "source": [
    "gripper.gripper_action(int(func_from_distance_to_int(grasp_width-0.04)),30) "
   ]
  },
  {
   "cell_type": "markdown",
   "id": "ebe75312",
   "metadata": {},
   "source": [
    "## reorient_pp"
   ]
  },
  {
   "cell_type": "code",
   "execution_count": 52,
   "id": "a5a0e76e",
   "metadata": {},
   "outputs": [],
   "source": [
    "### init gripper\n",
    "gripper.gripper_activate()\n",
    "time.sleep(1)\n",
    "ur.set_tcp((0, 0, 0.295, 0, 0, 0)) #upper jaw's tip to tool0 29.5mm\n",
    "int_list=np.array([0,170, 175, 180, 185, 190, 195, 200, 205, 210, 215,250])\n",
    "distance_list= np.array([130,31,28,25,22,19,15,13,9,7,4,0])/1000.0 \n",
    "func_from_distance_to_int = interpolate.interp1d(distance_list, int_list, kind = 3)\n",
    "center_width = 0.057 #jawtip at center of gripper:0.057\n",
    "gripper.gripper_action(int(func_from_distance_to_int(center_width+0.02))) "
   ]
  },
  {
   "cell_type": "code",
   "execution_count": 53,
   "id": "cbbd2ac8",
   "metadata": {},
   "outputs": [
    {
     "name": "stdout",
     "output_type": "stream",
     "text": [
      "enabling motor control...\n"
     ]
    }
   ],
   "source": [
    "### init palm\n",
    "palm.enable_motor()\n",
    "# write_angle(inverse_kinematics((15,150)))\n",
    "palm.goto((15,150))"
   ]
  },
  {
   "cell_type": "code",
   "execution_count": 50,
   "id": "4b6a922c",
   "metadata": {},
   "outputs": [
    {
     "name": "stdout",
     "output_type": "stream",
     "text": [
      "Rotated to: (-18.039695639734642, 144.36437666111564)\n"
     ]
    }
   ],
   "source": [
    "### go pick pose\n",
    "# print(ur.getl())\n",
    "ur.movel((-0.09, 0.4865, 0.005, pi, 0, 0), tcp_acc, tcp_vel)\n",
    "### close gripper and palm\n",
    "grasp_width = center_width+0.012 #elliptical \n",
    "gripper.gripper_action(int(func_from_distance_to_int(grasp_width)))\n",
    "time.sleep(0.1)\n",
    "palm.goto((0,150))\n",
    "### lift up\n",
    "lift_pose = ur.getl()\n",
    "lift_pose[2] = lift_pose[2]+0.07\n",
    "ur.movel(lift_pose, tcp_acc, tcp_vel)\n",
    "### open gripper\n",
    "palm.goto((-10,150))\n",
    "gripper.gripper_action(int(func_from_distance_to_int(grasp_width+0.015)))\n",
    "time.sleep(0.5)\n",
    "### reorient object\n",
    "normal_reorient = 1\n",
    "if normal_reorient == 1:\n",
    "    ### reorient object\n",
    "    palm.rotate((-10,146), (-15,150), -80, 1)\n",
    "else: # pivot up and down\n",
    "    palm.goto((-15,158))\n",
    "    time.sleep(1)\n",
    "    palm.goto((-23,159))\n",
    "    time.sleep(1)\n",
    "    palm.goto((-10,150))\n",
    "    time.sleep(1)\n",
    "    palm.goto((-15,140))\n",
    "    time.sleep(1)\n",
    "#     new_pos = palm.rotate((-5,150), (-10,150), 100, 0.5)\n",
    "#     time.sleep(0.5)\n",
    "#     new_pos = palm.rotate(new_pos, (-10,150), -150, 0.5)\n",
    "time.sleep(1)\n",
    "### close gripper\n",
    "palm.goto((-10,130))\n",
    "gripper.gripper_action(int(func_from_distance_to_int(grasp_width-0.02)))\n",
    "# palm.goto((0,110))"
   ]
  },
  {
   "cell_type": "markdown",
   "id": "ebf6fb62",
   "metadata": {},
   "source": [
    "#### release single object"
   ]
  },
  {
   "cell_type": "code",
   "execution_count": 24,
   "id": "3343bcbd",
   "metadata": {},
   "outputs": [
    {
     "name": "stdout",
     "output_type": "stream",
     "text": [
      "-5.8965368076764095 145.08103448350352\n",
      "Rotated to: (-5.8965368076764095, 145.08103448350352)\n"
     ]
    },
    {
     "data": {
      "text/plain": [
       "<Transform:\n",
       "<Orientation: \n",
       "array([[ 9.99999991e-01, -6.63155641e-05,  1.17606562e-04],\n",
       "       [-6.63346776e-05, -9.99999985e-01,  1.62524735e-04],\n",
       "       [ 1.17595783e-04, -1.62532535e-04, -9.99999980e-01]])>\n",
       "<Vector: (-0.08983, 0.48509, 0.07016)>\n",
       ">"
      ]
     },
     "execution_count": 24,
     "metadata": {},
     "output_type": "execute_result"
    }
   ],
   "source": [
    "### open gripper and ready for reorient\n",
    "palm.goto((0,130))\n",
    "time.sleep(0.5)\n",
    "palm.goto((-10,150))\n",
    "time.sleep(0.5)\n",
    "gripper.gripper_action(int(func_from_distance_to_int(grasp_width+0.01)))\n",
    "time.sleep(0.5)\n",
    "\n",
    "### reorient\n",
    "palm.rotate((-10,150), (-5,150), 80, 1)\n",
    "time.sleep(1.5)\n",
    "\n",
    "### close gripper\n",
    "palm.goto((-5,145))\n",
    "gripper.gripper_action(int(func_from_distance_to_int(grasp_width-0.004)))\n",
    "\n",
    "### lower robot\n",
    "drop_pose = ur.getl()\n",
    "drop_pose[1] = drop_pose[1]-0.0015\n",
    "drop_pose[2] = drop_pose[2]-0.075\n",
    "ur.movel(drop_pose, tcp_acc, tcp_vel)\n",
    "\n",
    "### release object\n",
    "palm.goto((13,150))\n",
    "gripper.gripper_action(int(func_from_distance_to_int(center_width+0.02))) \n",
    "\n",
    "lift_pose = ur.getl()\n",
    "lift_pose[2] = lift_pose[2]+0.07\n",
    "ur.movel(lift_pose, tcp_acc, tcp_vel)"
   ]
  },
  {
   "cell_type": "markdown",
   "id": "cd5d2310",
   "metadata": {},
   "source": [
    "#### pick next object"
   ]
  },
  {
   "cell_type": "code",
   "execution_count": 51,
   "id": "1b86b89d",
   "metadata": {},
   "outputs": [
    {
     "name": "stdout",
     "output_type": "stream",
     "text": [
      "Rotated to: (-18.05674455264937, 144.37360570704038)\n"
     ]
    }
   ],
   "source": [
    "gripper.gripper_action(int(func_from_distance_to_int(grasp_width-0.01)))\n",
    "palm.goto((-20,130))\n",
    "time.sleep(1)\n",
    "palm.goto((-20,140))\n",
    "time.sleep(1)\n",
    "palm.goto((15,140))\n",
    "time.sleep(1)\n",
    "\n",
    "gripper.gripper_action(int(func_from_distance_to_int(center_width+0.02))) \n",
    "palm.goto((15,150))\n",
    "time.sleep(0.5)\n",
    "\n",
    "ur.movel((-0.09, 0.485, 0.005, pi, 0, 0), tcp_acc, tcp_vel)\n",
    "time.sleep(0.5)\n",
    "\n",
    "grasp_width = center_width+0.012 #elliptical \n",
    "gripper.gripper_action(int(func_from_distance_to_int(grasp_width)))\n",
    "time.sleep(0.1)\n",
    "palm.goto((0,150))\n",
    "time.sleep(0.5)\n",
    "\n",
    "lift_pose = ur.getl()\n",
    "lift_pose[2] = lift_pose[2]+0.07\n",
    "ur.movel(lift_pose, tcp_acc, tcp_vel)\n",
    "time.sleep(0.5)\n",
    "\n",
    "palm.goto((-10,150))\n",
    "gripper.gripper_action(int(func_from_distance_to_int(grasp_width+0.010)))\n",
    "time.sleep(1)\n",
    "\n",
    "palm.rotate((-10,146), (-15,150), -80, 1)\n",
    "time.sleep(1)\n",
    "\n",
    "palm.goto((-10,130))\n",
    "gripper.gripper_action(int(func_from_distance_to_int(grasp_width-0.02)))\n",
    "time.sleep(1)"
   ]
  },
  {
   "cell_type": "code",
   "execution_count": 74,
   "id": "bcbbfaf8",
   "metadata": {},
   "outputs": [
    {
     "name": "stdout",
     "output_type": "stream",
     "text": [
      "disabling motor control...\n"
     ]
    }
   ],
   "source": [
    "palm.disable_motor()"
   ]
  },
  {
   "cell_type": "code",
   "execution_count": 75,
   "id": "394cec6e",
   "metadata": {},
   "outputs": [
    {
     "name": "stdout",
     "output_type": "stream",
     "text": [
      "enabling motor control...\n"
     ]
    }
   ],
   "source": [
    "palm.enable_motor()"
   ]
  },
  {
   "cell_type": "code",
   "execution_count": 63,
   "id": "3d6963dd",
   "metadata": {},
   "outputs": [
    {
     "name": "stdout",
     "output_type": "stream",
     "text": [
      "homing...\n",
      "enabling motor control...\n"
     ]
    }
   ],
   "source": [
    "palm.home()"
   ]
  },
  {
   "cell_type": "code",
   "execution_count": 30,
   "id": "17b687d7",
   "metadata": {},
   "outputs": [
    {
     "data": {
      "text/plain": [
       "(0.0815746470001075, 77.72131715725102)"
      ]
     },
     "execution_count": 30,
     "metadata": {},
     "output_type": "execute_result"
    }
   ],
   "source": [
    "palm.get_pos()"
   ]
  },
  {
   "cell_type": "code",
   "execution_count": 62,
   "id": "b779860e",
   "metadata": {},
   "outputs": [],
   "source": [
    "palm.set_soft()"
   ]
  },
  {
   "cell_type": "code",
   "execution_count": 57,
   "id": "7a7a8620",
   "metadata": {},
   "outputs": [],
   "source": [
    "palm.set_hard()"
   ]
  },
  {
   "cell_type": "code",
   "execution_count": 76,
   "id": "c82289b2",
   "metadata": {},
   "outputs": [],
   "source": [
    "for i in range(3):\n",
    "    palm.goto((-30,70))\n",
    "    time.sleep(0.07)\n",
    "    palm.goto((30,70))\n",
    "    time.sleep(0.07)\n",
    "    palm.goto((0,150))\n",
    "    time.sleep(0.07)"
   ]
  },
  {
   "cell_type": "code",
   "execution_count": null,
   "id": "d74ec97c",
   "metadata": {},
   "outputs": [],
   "source": []
  }
 ],
 "metadata": {
  "kernelspec": {
   "display_name": "Python 3",
   "language": "python",
   "name": "python3"
  },
  "language_info": {
   "codemirror_mode": {
    "name": "ipython",
    "version": 3
   },
   "file_extension": ".py",
   "mimetype": "text/x-python",
   "name": "python",
   "nbconvert_exporter": "python",
   "pygments_lexer": "ipython3",
   "version": "3.6.13"
  }
 },
 "nbformat": 4,
 "nbformat_minor": 5
}
