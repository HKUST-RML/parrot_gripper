{
 "cells": [
  {
   "cell_type": "code",
   "execution_count": 1,
   "id": "6e301770",
   "metadata": {},
   "outputs": [],
   "source": [
    "#!/usr/bin/env python3\n",
    "import time\n",
    "import numpy as np\n",
    "from math import *\n",
    "import matplotlib.pyplot as plt\n",
    "from scipy import interpolate"
   ]
  },
  {
   "cell_type": "code",
   "execution_count": 2,
   "id": "6592865d",
   "metadata": {},
   "outputs": [
    {
     "name": "stdout",
     "output_type": "stream",
     "text": [
      "<Transform:\n",
      "<Orientation: \n",
      "array([[ 0.99999654,  0.00209748, -0.00158681],\n",
      "       [ 0.00209115, -0.99998991, -0.0039755 ],\n",
      "       [-0.00159513,  0.00397217, -0.99999084]])>\n",
      "<Vector: (0.17399, 0.70096, 0.36013)>\n",
      ">\n"
     ]
    }
   ],
   "source": [
    "#urx for ur10 and gripper\n",
    "import urx\n",
    "import math3d as m3d\n",
    "from urx.robotiq_two_finger_gripper import Robotiq_Two_Finger_Gripper\n",
    "ur = urx.Robot(\"192.168.1.102\")\n",
    "gripper = Robotiq_Two_Finger_Gripper(ur)\n",
    "ur.set_tcp((0, 0, 0, 0, 0, 0))\n",
    "tcp_acc=0.05\n",
    "tcp_vel=0.05\n",
    "time.sleep(0.2)\n",
    "pose = ur.get_pose()\n",
    "print(pose)"
   ]
  },
  {
   "cell_type": "code",
   "execution_count": 2,
   "id": "d134fa27",
   "metadata": {},
   "outputs": [
    {
     "name": "stdout",
     "output_type": "stream",
     "text": [
      "finding an odrive...\n",
      "Odrive Voltage: 13.256396293640137\n"
     ]
    }
   ],
   "source": [
    "import palm"
   ]
  },
  {
   "cell_type": "code",
   "execution_count": 1,
   "id": "74d716fe",
   "metadata": {},
   "outputs": [
    {
     "name": "stdout",
     "output_type": "stream",
     "text": [
      "trying /dev/ttyACM 0\n",
      "trying /dev/ttyACM 1\n",
      "trying /dev/ttyACM 2\n"
     ]
    }
   ],
   "source": [
    "import fivebar_finger_gripper as grip5B\n",
    "grip5B.set_gripper(gripper)"
   ]
  },
  {
   "cell_type": "code",
   "execution_count": 4,
   "id": "997cc904",
   "metadata": {},
   "outputs": [],
   "source": [
    "grip5B.grip.gripper_activate()"
   ]
  },
  {
   "cell_type": "code",
   "execution_count": null,
   "id": "3912b6b3",
   "metadata": {},
   "outputs": [],
   "source": [
    "grip5B.grip.gripper_action(0)"
   ]
  },
  {
   "cell_type": "code",
   "execution_count": 13,
   "id": "c4cf0111",
   "metadata": {},
   "outputs": [
    {
     "name": "stdout",
     "output_type": "stream",
     "text": [
      "linkage variable: (array(72.10547064), array(106.), 100.01104549858798)\n",
      "gripper_cmd: 127.20772034146721\n",
      "sending msg: a0.0b179.89\n"
     ]
    }
   ],
   "source": [
    "grip5B.set_tip_dist(-2,0)"
   ]
  },
  {
   "cell_type": "code",
   "execution_count": 3,
   "id": "eb43c79f",
   "metadata": {},
   "outputs": [
    {
     "name": "stdout",
     "output_type": "stream",
     "text": [
      "sending msg: a0b180\n"
     ]
    }
   ],
   "source": [
    "grip5B.set_servo_angle(0,180)"
   ]
  },
  {
   "cell_type": "code",
   "execution_count": 12,
   "id": "cc0b17aa",
   "metadata": {},
   "outputs": [
    {
     "name": "stdout",
     "output_type": "stream",
     "text": [
      "linkage variable: (array(76.01765166), array(106.), 100.01104549858798)\n",
      "gripper_cmd: 103.09197655359056\n",
      "sending msg: a0.0b179.89\n",
      "linkage variable: (array(76.09702221), array(106.37902815), 100.18532776604248)\n",
      "gripper_cmd: 102.583190939344\n",
      "sending msg: a1.85b180.0\n",
      "linkage variable: (array(76.16705334), array(106.75749709), 100.35871400276768)\n",
      "gripper_cmd: 102.13427347610772\n",
      "sending msg: a3.59b180.0\n",
      "linkage variable: (array(76.22396048), array(107.12608208), 100.52695447998595)\n",
      "gripper_cmd: 101.76948410418211\n",
      "sending msg: a5.13b180.0\n",
      "linkage variable: (array(76.26525514), array(107.48130905), 100.68851724936876)\n",
      "gripper_cmd: 101.50477472922088\n",
      "sending msg: a5.94b180.0\n",
      "linkage variable: (array(76.29698786), array(107.83467602), 100.84866533285228)\n",
      "gripper_cmd: 101.30135987872622\n",
      "sending msg: a6.74b180.0\n",
      "linkage variable: (array(76.31458305), array(108.17276986), 101.00135743035064)\n",
      "gripper_cmd: 101.18857021615207\n",
      "sending msg: a7.51b180.0\n",
      "linkage variable: (array(76.31875161), array(108.49925037), 101.14830612707297)\n",
      "gripper_cmd: 101.16184866844695\n",
      "sending msg: a8.24b180.0\n",
      "linkage variable: (array(76.31329727), array(108.82227398), 101.29321422058781)\n",
      "gripper_cmd: 101.19681240267475\n",
      "sending msg: a8.97b180.0\n",
      "linkage variable: (array(76.29521947), array(109.13042369), 101.43099826788898)\n",
      "gripper_cmd: 101.3126957106888\n",
      "sending msg: a9.65b180.0\n",
      "linkage variable: (array(76.2639671), array(109.42393604), 101.56182537504894)\n",
      "gripper_cmd: 101.51303140690219\n",
      "sending msg: a10.21b180.0\n",
      "linkage variable: (array(76.22327765), array(109.71238696), 101.69000288671069)\n",
      "gripper_cmd: 101.77386118778008\n",
      "sending msg: a10.63b180.0\n",
      "linkage variable: (array(76.17320492), array(109.99192801), 101.81384722707269)\n",
      "gripper_cmd: 102.0948402864078\n",
      "sending msg: a11.05b180.0\n",
      "linkage variable: (array(76.10911005), array(110.24947987), 101.927622576013)\n",
      "gripper_cmd: 102.50570482482824\n",
      "sending msg: a11.43b180.0\n",
      "linkage variable: (array(76.03588488), array(110.50016275), 102.03806095066687)\n",
      "gripper_cmd: 102.97509689374829\n",
      "sending msg: a11.79b180.0\n",
      "linkage variable: (array(75.95432885), array(110.73937446), 102.1431663441419)\n",
      "gripper_cmd: 103.49789196845472\n",
      "sending msg: a12.14b180.0\n",
      "linkage variable: (array(75.86463225), array(110.96842026), 102.24354842332181)\n",
      "gripper_cmd: 104.07287018644408\n",
      "sending msg: a12.48b180.0\n",
      "linkage variable: (array(75.76366012), array(111.17877093), 102.33551525497609)\n",
      "gripper_cmd: 104.72012745913949\n",
      "sending msg: a12.79b180.0\n",
      "linkage variable: (array(75.65449246), array(111.37539231), 102.421286843197)\n",
      "gripper_cmd: 105.41992012790514\n",
      "sending msg: a13.07b180.0\n",
      "linkage variable: (array(75.53791881), array(111.55995016), 102.50162608718928)\n",
      "gripper_cmd: 106.16718712033285\n",
      "sending msg: a13.34b180.0\n",
      "linkage variable: (array(75.41400127), array(111.73682471), 102.5784659199392)\n",
      "gripper_cmd: 106.96153033889675\n",
      "sending msg: a13.59b180.0\n",
      "linkage variable: (array(75.28336498), array(111.90011201), 102.64926817054466)\n",
      "gripper_cmd: 107.7989424125826\n",
      "sending msg: a13.83b180.0\n",
      "linkage variable: (array(75.14567639), array(112.04656324), 102.71265981305493)\n",
      "gripper_cmd: 108.6815616256628\n",
      "sending msg: a14.04b180.0\n",
      "linkage variable: (array(75.00049137), array(112.17717643), 102.76910767516814)\n",
      "gripper_cmd: 109.6122348045758\n",
      "sending msg: a14.23b180.0\n",
      "linkage variable: (array(74.85118462), array(112.29226429), 102.81877677588481)\n",
      "gripper_cmd: 110.56932935346265\n",
      "sending msg: a14.4b180.0\n",
      "linkage variable: (array(74.6969727), array(112.39276127), 102.86209578552167)\n",
      "gripper_cmd: 111.5578673178768\n",
      "sending msg: a14.54b180.0\n",
      "linkage variable: (array(74.53827362), array(112.47840291), 102.89897236082147)\n",
      "gripper_cmd: 112.57516913053863\n",
      "sending msg: a14.66b180.0\n",
      "linkage variable: (array(74.37525621), array(112.5524104), 102.93081037307918)\n",
      "gripper_cmd: 113.62015252005622\n",
      "sending msg: a14.77b180.0\n",
      "linkage variable: (array(74.20855875), array(112.61209476), 102.95646697832086)\n",
      "gripper_cmd: 114.68872593999245\n",
      "sending msg: a14.85b180.0\n",
      "linkage variable: (array(74.03873004), array(112.65609939), 102.97537209349714)\n",
      "gripper_cmd: 115.77737154623648\n",
      "sending msg: a14.92b180.0\n",
      "linkage variable: (array(73.86742049), array(112.68131801), 102.98620213520907)\n",
      "gripper_cmd: 116.8755097072231\n",
      "sending msg: a14.95b180.0\n"
     ]
    }
   ],
   "source": [
    "grip5B.tip_run_arc(11,90,1,3)"
   ]
  },
  {
   "cell_type": "code",
   "execution_count": null,
   "id": "60bc93f7",
   "metadata": {},
   "outputs": [],
   "source": []
  }
 ],
 "metadata": {
  "kernelspec": {
   "display_name": "Python 3",
   "language": "python",
   "name": "python3"
  },
  "language_info": {
   "codemirror_mode": {
    "name": "ipython",
    "version": 3
   },
   "file_extension": ".py",
   "mimetype": "text/x-python",
   "name": "python",
   "nbconvert_exporter": "python",
   "pygments_lexer": "ipython3",
   "version": "3.6.13"
  }
 },
 "nbformat": 4,
 "nbformat_minor": 5
}
