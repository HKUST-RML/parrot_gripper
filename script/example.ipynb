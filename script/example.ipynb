{
 "cells": [
  {
   "cell_type": "markdown",
   "id": "4d6e1032",
   "metadata": {},
   "source": [
    "## Importing Libraries"
   ]
  },
  {
   "cell_type": "code",
   "execution_count": null,
   "id": "6e301770",
   "metadata": {},
   "outputs": [],
   "source": [
    "#!/usr/bin/env python3\n",
    "# import some libraries for basic function\n",
    "import time\n",
    "import numpy as np\n",
    "from math import *\n",
    "import matplotlib.pyplot as plt\n",
    "from scipy import interpolate"
   ]
  },
  {
   "cell_type": "code",
   "execution_count": null,
   "id": "6592865d",
   "metadata": {},
   "outputs": [],
   "source": [
    "#import urx for controlling UR10 and Robotiq gripper\n",
    "import urx\n",
    "import math3d as m3d\n",
    "from urx.robotiq_two_finger_gripper import Robotiq_Two_Finger_Gripper\n",
    "ur = urx.Robot(\"192.168.1.102\")\n",
    "gripper = Robotiq_Two_Finger_Gripper(ur)\n",
    "ur.set_tcp((0, 0, 0, 0, 0, 0))\n",
    "tcp_acc=0.05\n",
    "tcp_vel=0.05\n",
    "time.sleep(0.2)\n",
    "pose = ur.get_pose()\n",
    "print(pose)"
   ]
  },
  {
   "cell_type": "code",
   "execution_count": null,
   "id": "d134fa27",
   "metadata": {},
   "outputs": [],
   "source": [
    "#import palm.py for controlling the palm through odrive\n",
    "import palm"
   ]
  },
  {
   "cell_type": "code",
   "execution_count": null,
   "id": "ade88107",
   "metadata": {},
   "outputs": [],
   "source": [
    "#import fivebar_finger_gripper.py for controlling Robotiq gripper and its finger simuatanely\n",
    "import fivebar_finger_gripper as grip5B\n",
    "grip5B.set_gripper(gripper) # initialize grip5B with Robotiq gripper object"
   ]
  },
  {
   "cell_type": "markdown",
   "id": "a364be1f",
   "metadata": {},
   "source": [
    "## Initialize Hardware"
   ]
  },
  {
   "cell_type": "code",
   "execution_count": null,
   "id": "97675f87",
   "metadata": {},
   "outputs": [],
   "source": [
    "#init hardware\n",
    "grip5B.set_servo_angle(0,180) #set finger to normal postion\n",
    "palm.enable_motor()\n",
    "palm.goto((0,90)) #move palm to a position without interfering the gripper's motion\n",
    "time.sleep(1)\n",
    "grip5B.grip.gripper_activate() #activate gripper for calibration\n",
    "grip5B.set_tip_dist(50,0) #"
   ]
  },
  {
   "cell_type": "markdown",
   "id": "dc5c4513",
   "metadata": {},
   "source": [
    "## Palm's Basic functions"
   ]
  },
  {
   "cell_type": "code",
   "execution_count": null,
   "id": "735a2c8a",
   "metadata": {},
   "outputs": [],
   "source": [
    "palm.enable_motor() # start the motors' close-loop control. The motors to hold its position\n",
    "stiffness = 30\n",
    "palm.enable_motor(stiffness) #The function can also take the stiffness as input with the range (15,150). By default: 70"
   ]
  },
  {
   "cell_type": "code",
   "execution_count": null,
   "id": "b107bdff",
   "metadata": {},
   "outputs": [],
   "source": [
    "Palm.home() # move the palm to the center between the fingers"
   ]
  },
  {
   "cell_type": "code",
   "execution_count": null,
   "id": "083111c4",
   "metadata": {},
   "outputs": [],
   "source": [
    "Palm.goto((0,90)) # go to the coordinate (x,y) in mm. The palm's frame is aligned with the gripper's frame but the origin is located at the brushless motor.\n",
    "duration = 2\n",
    "Palm.goto((0,90), duration) #This function can also take the duration in second to execute the motion. For example, this function will move the palm to (0,90) in 2s."
   ]
  },
  {
   "cell_type": "code",
   "execution_count": null,
   "id": "252e475e",
   "metadata": {},
   "outputs": [],
   "source": [
    "Palm.get_pos() # return the current position of the palm in palm's frame"
   ]
  },
  {
   "cell_type": "code",
   "execution_count": null,
   "id": "7285c205",
   "metadata": {},
   "outputs": [],
   "source": [
    "Palm.rotate((10,90), (0,90),30, 5) # execute the palm by running an arc motion starting at (10,90) with the center at (0,90) and angle of 30 degree. The motion will take 5 second to complete.."
   ]
  },
  {
   "cell_type": "code",
   "execution_count": null,
   "id": "f937391c",
   "metadata": {},
   "outputs": [],
   "source": [
    "Palm.disable_motor() # stop the close-loop control of the motors. The motors will be free to spin"
   ]
  },
  {
   "cell_type": "markdown",
   "id": "29b39908",
   "metadata": {},
   "source": [
    "## Fingers' Basic functions"
   ]
  },
  {
   "cell_type": "code",
   "execution_count": null,
   "id": "a7e95f17",
   "metadata": {},
   "outputs": [],
   "source": [
    "grip5B.set_tip_dist(50,0) # set the relative distance in mm of the fingertip in (dx,dy), if dy > 0  the left finger will move further than the right, vise versa."
   ]
  },
  {
   "cell_type": "code",
   "execution_count": null,
   "id": "8c54e996",
   "metadata": {},
   "outputs": [],
   "source": [
    "grib5B.tip_run_arc(10, 50, 0) # execute an arc motion with the fingertip, with radius 10mm, angle 50 degree. Third parameter indicate the direction."
   ]
  },
  {
   "cell_type": "code",
   "execution_count": null,
   "id": "eb43c79f",
   "metadata": {},
   "outputs": [],
   "source": [
    "grip5B.set_servo_angle(0,180) # set the servo angle of the finger, (0,180) will the finger to normal configuration"
   ]
  }
 ],
 "metadata": {
  "kernelspec": {
   "display_name": "Python 3",
   "language": "python",
   "name": "python3"
  },
  "language_info": {
   "codemirror_mode": {
    "name": "ipython",
    "version": 3
   },
   "file_extension": ".py",
   "mimetype": "text/x-python",
   "name": "python",
   "nbconvert_exporter": "python",
   "pygments_lexer": "ipython3",
   "version": "3.6.13"
  }
 },
 "nbformat": 4,
 "nbformat_minor": 5
}
