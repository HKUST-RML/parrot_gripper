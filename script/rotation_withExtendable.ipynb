{
 "cells": [
  {
   "cell_type": "code",
   "execution_count": null,
   "id": "6e301770",
   "metadata": {},
   "outputs": [],
   "source": [
    "#!/usr/bin/env python3\n",
    "import time\n",
    "import numpy as np\n",
    "from math import *\n",
    "import matplotlib.pyplot as plt\n",
    "from scipy import interpolate"
   ]
  },
  {
   "cell_type": "code",
   "execution_count": null,
   "id": "6592865d",
   "metadata": {},
   "outputs": [],
   "source": [
    "#urx for ur10 and gripper\n",
    "import urx\n",
    "import math3d as m3d\n",
    "from urx.robotiq_two_finger_gripper import Robotiq_Two_Finger_Gripper\n",
    "ur = urx.Robot(\"192.168.1.102\")\n",
    "gripper = Robotiq_Two_Finger_Gripper(ur)\n",
    "ur.set_tcp((0, 0, 0, 0, 0, 0))\n",
    "tcp_acc=0.05\n",
    "tcp_vel=0.05\n",
    "time.sleep(0.2)\n",
    "pose = ur.get_pose()\n",
    "print(pose)"
   ]
  },
  {
   "cell_type": "code",
   "execution_count": 2,
   "id": "d134fa27",
   "metadata": {},
   "outputs": [
    {
     "name": "stdout",
     "output_type": "stream",
     "text": [
      "finding an odrive...\n",
      "Odrive Voltage: 13.287012100219727\n"
     ]
    }
   ],
   "source": [
    "import palm"
   ]
  },
  {
   "cell_type": "code",
   "execution_count": null,
   "id": "74d716fe",
   "metadata": {},
   "outputs": [],
   "source": [
    "import extendable_finger as finger"
   ]
  },
  {
   "cell_type": "code",
   "execution_count": null,
   "id": "4e3a44f1",
   "metadata": {},
   "outputs": [],
   "source": [
    "finger.set_offset(15)"
   ]
  },
  {
   "cell_type": "code",
   "execution_count": null,
   "id": "f57fe4c1",
   "metadata": {},
   "outputs": [],
   "source": [
    "finger.set_offset(0)"
   ]
  },
  {
   "cell_type": "code",
   "execution_count": 4,
   "id": "d980f865",
   "metadata": {},
   "outputs": [
    {
     "name": "stdout",
     "output_type": "stream",
     "text": [
      "enabling motor control...\n"
     ]
    }
   ],
   "source": [
    "palm.enable_motor()"
   ]
  },
  {
   "cell_type": "code",
   "execution_count": 5,
   "id": "33770130",
   "metadata": {},
   "outputs": [
    {
     "name": "stdout",
     "output_type": "stream",
     "text": [
      "homing...\n"
     ]
    }
   ],
   "source": [
    "palm.home()"
   ]
  },
  {
   "cell_type": "markdown",
   "id": "a8973110",
   "metadata": {},
   "source": [
    "## init hardware"
   ]
  },
  {
   "cell_type": "code",
   "execution_count": null,
   "id": "755200a8",
   "metadata": {},
   "outputs": [],
   "source": [
    "finger.set_offset(0)\n",
    "time.sleep(0.5)\n",
    "gripper.gripper_activate()\n",
    "time.sleep(0.5)\n",
    "ur.set_tcp((0, 0, 0.295, 0, 0, 0)) #upper jaw's tip to tool0 29.5mm\n",
    "int_list=np.array([0, 25, 50, 75, 100, 125, 150, 175, 200, 225, 250])\n",
    "distance_list= np.array([134,122,107,92,76,60,43,26,10,1,0])/1000.0 \n",
    "func_from_distance_to_int = interpolate.interp1d(distance_list, int_list, kind = 3)"
   ]
  },
  {
   "cell_type": "code",
   "execution_count": null,
   "id": "170a9271",
   "metadata": {},
   "outputs": [],
   "source": [
    "finger.set_offset(0)\n",
    "gripper.gripper_action(int(func_from_distance_to_int(0.13))) \n",
    "finger.get_tip_pos(0.13,1)"
   ]
  },
  {
   "cell_type": "code",
   "execution_count": null,
   "id": "c85d5547",
   "metadata": {},
   "outputs": [],
   "source": [
    "obj_thick = 15\n",
    "finger_offset = 40\n",
    "grasp_width = (obj_thick + finger_offset*2)/1000\n",
    "print (grasp_width)\n",
    "gripper.gripper_action(int(func_from_distance_to_int(grasp_width))) \n",
    "finger.set_offset(0)"
   ]
  },
  {
   "cell_type": "code",
   "execution_count": null,
   "id": "a2d20d78",
   "metadata": {},
   "outputs": [],
   "source": [
    "theta = 90\n",
    "step_size = 90\n",
    "for i in range(0, theta+step_size, step_size):\n",
    "    print(i)\n",
    "    verti = obj_thick * sin(radians(i))\n",
    "    hori = obj_thick * (1-cos(radians(i)))\n",
    "    gripper.gripper_action(int(func_from_distance_to_int(grasp_width-hori/1000)),170) \n",
    "    finger.set_offset(-verti)"
   ]
  },
  {
   "cell_type": "code",
   "execution_count": null,
   "id": "ebe58dc6",
   "metadata": {},
   "outputs": [],
   "source": []
  },
  {
   "cell_type": "code",
   "execution_count": null,
   "id": "02b7c709",
   "metadata": {},
   "outputs": [],
   "source": []
  },
  {
   "cell_type": "code",
   "execution_count": null,
   "id": "f70e57ea",
   "metadata": {},
   "outputs": [],
   "source": [
    "init_width = 0.08\n",
    "gripper.gripper_action(int(func_from_distance_to_int(init_width))) "
   ]
  },
  {
   "cell_type": "code",
   "execution_count": null,
   "id": "ea723467",
   "metadata": {},
   "outputs": [],
   "source": [
    "palm.home()"
   ]
  },
  {
   "cell_type": "markdown",
   "id": "eef1f0c8",
   "metadata": {},
   "source": [
    "#### continouous rotation"
   ]
  },
  {
   "cell_type": "code",
   "execution_count": null,
   "id": "40c9b95d",
   "metadata": {},
   "outputs": [],
   "source": [
    "pick_pose = (-0.09, 0.4865, 0.016, pi, 0, 0)\n",
    "ur.movel(pick_pose, tcp_acc, tcp_vel)\n",
    "\n",
    "grasp_width = init_width - 0.007\n",
    "gripper.gripper_action(int(func_from_distance_to_int(grasp_width))) \n",
    "\n",
    "lift_pose = ur.getl()\n",
    "lift_pose[2] = lift_pose[2]+0.05\n",
    "ur.movel(lift_pose, tcp_acc, tcp_vel)\n",
    "\n",
    "### reorient\n",
    "theta = 50\n",
    "obj_thick = 15\n",
    "verti = obj_thick * sin(radians(theta))\n",
    "hori = obj_thick * cos(radians(theta))\n",
    "gripper.gripper_action(int(func_from_distance_to_int(grasp_width-hori/1000)),210) \n",
    "finger.set_offset(-verti)\n",
    "time.sleep(0.5)\n",
    "\n",
    "palm.goto((5,150))\n",
    "time.sleep(0.5)\n",
    "\n",
    "palm.goto((25,150))\n",
    "gripper.gripper_action(int(func_from_distance_to_int(0.09))) \n",
    "time.sleep(0.5)\n",
    "\n",
    "for i in range(2):\n",
    "    finger.set_offset(12)\n",
    "    time.sleep(0.5)\n",
    "\n",
    "    palm.goto((15,150))\n",
    "    gripper.gripper_action(int(func_from_distance_to_int(0.07))) \n",
    "    time.sleep(0.8)\n",
    "\n",
    "    palm.goto((0,150))\n",
    "    finger.set_offset(-15)\n",
    "    time.sleep(0.5)\n",
    "\n",
    "    palm.goto((-30,150))\n",
    "    gripper.gripper_action(int(func_from_distance_to_int(0.09)))\n",
    "    time.sleep(0.5)\n",
    "\n",
    "    palm.goto((-20,158))\n",
    "    time.sleep(0.5)\n",
    "\n",
    "    palm.goto((-20,165))\n",
    "    finger.set_offset(3)\n",
    "    palm.goto((-25,180),0.2)\n",
    "    time.sleep(0.5)\n",
    "\n",
    "    gripper.gripper_action(int(func_from_distance_to_int(0.06))) \n",
    "    palm.goto((-22,180))\n",
    "    time.sleep(0.5)\n",
    "\n",
    "    palm.goto((-4,185))\n",
    "    finger.set_offset(-15)\n",
    "    time.sleep(0.5)\n",
    "\n",
    "    gripper.gripper_action(int(func_from_distance_to_int(0.09)),200) \n",
    "    palm.goto((15,174),0.15)\n",
    "    time.sleep(0.5)\n",
    "\n",
    "    palm.goto((12,173))\n",
    "    time.sleep(0.2)\n",
    "    palm.goto((20,150))\n",
    "    time.sleep(0.5)"
   ]
  },
  {
   "cell_type": "code",
   "execution_count": null,
   "id": "fc16d83c",
   "metadata": {},
   "outputs": [],
   "source": []
  },
  {
   "cell_type": "code",
   "execution_count": null,
   "id": "a5e5bbe1",
   "metadata": {},
   "outputs": [],
   "source": []
  },
  {
   "cell_type": "code",
   "execution_count": null,
   "id": "0bea3bf5",
   "metadata": {},
   "outputs": [],
   "source": [
    "finger.set_offset(0)\n",
    "time.sleep(0.5)\n",
    "\n",
    "gripper.gripper_action(int(func_from_distance_to_int(grasp_width-0.001))) \n",
    "time.sleep(0.5)\n",
    "palm.goto((-80,170))\n",
    "time.sleep(0.5)\n",
    "palm.goto((-80,70))\n",
    "time.sleep(0.5)\n",
    "\n",
    "pick_pose = (-0.09, 0.486, 0.016, pi, 0, 0)\n",
    "ur.movel(pick_pose, tcp_acc, tcp_vel)\n",
    "\n",
    "gripper.gripper_action(int(func_from_distance_to_int(init_width))) \n",
    "lift_pose = ur.getl()\n",
    "lift_pose[2] = lift_pose[2]+0.05\n",
    "ur.movel(lift_pose, tcp_acc, tcp_vel)\n",
    "\n",
    "palm.goto((-80,176))\n",
    "time.sleep(0.5)\n",
    "palm.goto((0,176))\n",
    "time.sleep(0.5)\n",
    "palm.home()"
   ]
  },
  {
   "cell_type": "markdown",
   "id": "ac813572",
   "metadata": {},
   "source": [
    "#### full rotation"
   ]
  },
  {
   "cell_type": "code",
   "execution_count": null,
   "id": "63ab47ea",
   "metadata": {},
   "outputs": [],
   "source": [
    "pick_pose = (-0.09, 0.4865, 0.016, pi, 0, 0)\n",
    "ur.movel(pick_pose, tcp_acc, tcp_vel)\n",
    "\n",
    "grasp_width = init_width - 0.006\n",
    "gripper.gripper_action(int(func_from_distance_to_int(grasp_width))) \n",
    "\n",
    "lift_pose = ur.getl()\n",
    "lift_pose[2] = lift_pose[2]+0.05\n",
    "ur.movel(lift_pose, tcp_acc, tcp_vel)\n",
    "\n",
    "### reorient\n",
    "theta = 50\n",
    "obj_thick = 15\n",
    "verti = obj_thick * sin(radians(theta))\n",
    "hori = obj_thick * cos(radians(theta))\n",
    "gripper.gripper_action(int(func_from_distance_to_int(grasp_width-hori/1000)),210) \n",
    "finger.set_offset(-verti)\n",
    "time.sleep(0.5)\n",
    "\n",
    "palm.goto((5,150))\n",
    "time.sleep(0.5)\n",
    "\n",
    "palm.goto((25,150))\n",
    "gripper.gripper_action(int(func_from_distance_to_int(0.09))) \n",
    "time.sleep(0.5)\n",
    "\n",
    "finger.set_offset(12)\n",
    "time.sleep(0.5)\n",
    "\n",
    "palm.goto((15,150))\n",
    "gripper.gripper_action(int(func_from_distance_to_int(0.07))) \n",
    "time.sleep(0.8)\n",
    "\n",
    "palm.goto((0,150))\n",
    "finger.set_offset(-15)\n",
    "time.sleep(0.5)\n",
    "\n",
    "palm.goto((-30,150))\n",
    "gripper.gripper_action(int(func_from_distance_to_int(0.09)))\n",
    "time.sleep(0.5)\n",
    "\n",
    "palm.goto((-20,158))\n",
    "time.sleep(0.5)\n",
    "\n",
    "palm.goto((-20,165))\n",
    "finger.set_offset(3)\n",
    "palm.goto((-22,180),0.2)\n",
    "time.sleep(0.5)\n",
    "\n",
    "gripper.gripper_action(int(func_from_distance_to_int(0.06))) \n",
    "palm.goto((-18,180))\n",
    "time.sleep(0.5)\n",
    "\n",
    "palm.goto((-4,185))\n",
    "finger.set_offset(-15)\n",
    "time.sleep(0.5)\n",
    "\n",
    "gripper.gripper_action(int(func_from_distance_to_int(0.09)),200) \n",
    "palm.goto((12,174),0.15)\n",
    "time.sleep(0.5)\n",
    "\n",
    "palm.goto((20,164))\n",
    "time.sleep(0.5)\n",
    "\n",
    "finger.set_offset(0)\n",
    "time.sleep(0.5)\n",
    "\n",
    "gripper.gripper_action(int(func_from_distance_to_int(grasp_width-0.001))) \n",
    "time.sleep(0.5)\n",
    "palm.goto((-80,170))\n",
    "time.sleep(0.5)\n",
    "palm.goto((-80,70))\n",
    "time.sleep(0.5)\n",
    "\n",
    "pick_pose = (-0.09, 0.486, 0.016, pi, 0, 0)\n",
    "ur.movel(pick_pose, tcp_acc, tcp_vel)\n",
    "\n",
    "gripper.gripper_action(int(func_from_distance_to_int(init_width))) \n",
    "lift_pose = ur.getl()\n",
    "lift_pose[2] = lift_pose[2]+0.05\n",
    "ur.movel(lift_pose, tcp_acc, tcp_vel)\n",
    "\n",
    "palm.goto((-80,176))\n",
    "time.sleep(0.5)\n",
    "palm.goto((0,176))\n",
    "time.sleep(0.5)\n",
    "palm.home()"
   ]
  },
  {
   "cell_type": "markdown",
   "id": "55985236",
   "metadata": {},
   "source": [
    "#### half rotation"
   ]
  },
  {
   "cell_type": "code",
   "execution_count": null,
   "id": "85687e61",
   "metadata": {},
   "outputs": [],
   "source": [
    "pick_pose = (-0.09, 0.4865, 0.016, pi, 0, 0)\n",
    "ur.movel(pick_pose, tcp_acc, tcp_vel)\n",
    "\n",
    "grasp_width = init_width - 0.006\n",
    "gripper.gripper_action(int(func_from_distance_to_int(grasp_width))) \n",
    "\n",
    "lift_pose = ur.getl()\n",
    "lift_pose[2] = lift_pose[2]+0.05\n",
    "ur.movel(lift_pose, tcp_acc, tcp_vel)\n",
    "\n",
    "### reorient\n",
    "theta = 50\n",
    "obj_thick = 15\n",
    "verti = obj_thick * sin(radians(theta))\n",
    "hori = obj_thick * cos(radians(theta))\n",
    "gripper.gripper_action(int(func_from_distance_to_int(grasp_width-hori/1000)),210) \n",
    "finger.set_offset(-verti)\n",
    "time.sleep(0.5)\n",
    "\n",
    "palm.goto((5,150))\n",
    "time.sleep(0.5)\n",
    "\n",
    "palm.goto((25,150))\n",
    "gripper.gripper_action(int(func_from_distance_to_int(0.09))) \n",
    "time.sleep(0.5)\n",
    "\n",
    "finger.set_offset(12)\n",
    "time.sleep(0.5)\n",
    "\n",
    "palm.goto((15,150))\n",
    "gripper.gripper_action(int(func_from_distance_to_int(0.07))) \n",
    "time.sleep(0.8)\n",
    "\n",
    "palm.goto((0,150))\n",
    "finger.set_offset(-15)\n",
    "time.sleep(0.5)\n",
    "\n",
    "palm.goto((-30,150))\n",
    "gripper.gripper_action(int(func_from_distance_to_int(0.09)))\n",
    "time.sleep(0.5)\n",
    "\n",
    "palm.goto((-15,143))\n",
    "time.sleep(0.5)\n",
    "\n",
    "finger.set_offset(-5)\n",
    "palm.goto((-15,153),0.15)\n",
    "time.sleep(0.5)\n",
    "\n",
    "gripper.gripper_action(int(func_from_distance_to_int(grasp_width-0.008)))\n",
    "\n",
    "pick_pose = (-0.089, 0.488, 0.006, pi, 0, 0)\n",
    "ur.movel(pick_pose, tcp_acc, tcp_vel)\n",
    "\n",
    "gripper.gripper_action(int(func_from_distance_to_int(init_width))) \n",
    "palm.goto((15,153))\n",
    "lift_pose = ur.getl()\n",
    "lift_pose[2] = lift_pose[2]+0.05\n",
    "ur.movel(lift_pose, tcp_acc, tcp_vel)"
   ]
  }
 ],
 "metadata": {
  "kernelspec": {
   "display_name": "Python 3",
   "language": "python",
   "name": "python3"
  },
  "language_info": {
   "codemirror_mode": {
    "name": "ipython",
    "version": 3
   },
   "file_extension": ".py",
   "mimetype": "text/x-python",
   "name": "python",
   "nbconvert_exporter": "python",
   "pygments_lexer": "ipython3",
   "version": "3.6.13"
  }
 },
 "nbformat": 4,
 "nbformat_minor": 5
}
