{
 "cells": [
  {
   "cell_type": "code",
   "execution_count": 1,
   "id": "6e301770",
   "metadata": {},
   "outputs": [],
   "source": [
    "#!/usr/bin/env python3\n",
    "import time\n",
    "import numpy as np\n",
    "from math import *\n",
    "import matplotlib.pyplot as plt\n",
    "from scipy import interpolate"
   ]
  },
  {
   "cell_type": "code",
   "execution_count": 2,
   "id": "6592865d",
   "metadata": {},
   "outputs": [
    {
     "name": "stdout",
     "output_type": "stream",
     "text": [
      "<Transform:\n",
      "<Orientation: \n",
      "array([[ 0.99999654,  0.00209748, -0.00158681],\n",
      "       [ 0.00209115, -0.99998991, -0.0039755 ],\n",
      "       [-0.00159513,  0.00397217, -0.99999084]])>\n",
      "<Vector: (0.17399, 0.70096, 0.36013)>\n",
      ">\n"
     ]
    }
   ],
   "source": [
    "#urx for ur10 and gripper\n",
    "import urx\n",
    "import math3d as m3d\n",
    "from urx.robotiq_two_finger_gripper import Robotiq_Two_Finger_Gripper\n",
    "ur = urx.Robot(\"192.168.1.102\")\n",
    "gripper = Robotiq_Two_Finger_Gripper(ur)\n",
    "ur.set_tcp((0, 0, 0, 0, 0, 0))\n",
    "tcp_acc=0.05\n",
    "tcp_vel=0.05\n",
    "time.sleep(0.2)\n",
    "pose = ur.get_pose()\n",
    "print(pose)"
   ]
  },
  {
   "cell_type": "code",
   "execution_count": 14,
   "id": "d134fa27",
   "metadata": {},
   "outputs": [
    {
     "name": "stdout",
     "output_type": "stream",
     "text": [
      "finding an odrive...\n",
      "Odrive Voltage: 13.27170467376709\n"
     ]
    }
   ],
   "source": [
    "import palm"
   ]
  },
  {
   "cell_type": "code",
   "execution_count": 15,
   "id": "797169fb",
   "metadata": {},
   "outputs": [
    {
     "name": "stdout",
     "output_type": "stream",
     "text": [
      "enabling motor control...\n"
     ]
    }
   ],
   "source": [
    "palm.enable_motor()"
   ]
  },
  {
   "cell_type": "code",
   "execution_count": 16,
   "id": "70825fc7",
   "metadata": {},
   "outputs": [
    {
     "name": "stdout",
     "output_type": "stream",
     "text": [
      "homing...\n"
     ]
    }
   ],
   "source": [
    "palm.home()"
   ]
  },
  {
   "cell_type": "code",
   "execution_count": 17,
   "id": "b77b8bce",
   "metadata": {},
   "outputs": [
    {
     "name": "stdout",
     "output_type": "stream",
     "text": [
      "disabling motor control...\n"
     ]
    }
   ],
   "source": [
    "palm.disable_motor()"
   ]
  },
  {
   "cell_type": "code",
   "execution_count": 1,
   "id": "74d716fe",
   "metadata": {},
   "outputs": [
    {
     "name": "stdout",
     "output_type": "stream",
     "text": [
      "trying /dev/ttyACM 0\n"
     ]
    }
   ],
   "source": [
    "import fivebar_finger_gripper as grip5B\n",
    "#grip5B.set_gripper(gripper)"
   ]
  },
  {
   "cell_type": "code",
   "execution_count": null,
   "id": "7ba89008",
   "metadata": {},
   "outputs": [],
   "source": []
  },
  {
   "cell_type": "code",
   "execution_count": 4,
   "id": "997cc904",
   "metadata": {},
   "outputs": [],
   "source": [
    "grip5B.grip.gripper_activate()"
   ]
  },
  {
   "cell_type": "code",
   "execution_count": null,
   "id": "3912b6b3",
   "metadata": {},
   "outputs": [],
   "source": [
    "grip5B.grip.gripper_action(0)"
   ]
  },
  {
   "cell_type": "code",
   "execution_count": 13,
   "id": "c4cf0111",
   "metadata": {},
   "outputs": [
    {
     "name": "stdout",
     "output_type": "stream",
     "text": [
      "linkage variable: (array(72.10547064), array(106.), 100.01104549858798)\n",
      "gripper_cmd: 127.20772034146721\n",
      "sending msg: a0.0b179.89\n"
     ]
    }
   ],
   "source": [
    "grip5B.set_tip_dist(-2,0)"
   ]
  },
  {
   "cell_type": "code",
   "execution_count": 13,
   "id": "eb43c79f",
   "metadata": {},
   "outputs": [
    {
     "name": "stdout",
     "output_type": "stream",
     "text": [
      "sending msg: a0b180\n"
     ]
    }
   ],
   "source": [
    "grip5B.set_servo_angle(0,180)"
   ]
  },
  {
   "cell_type": "code",
   "execution_count": 3,
   "id": "cc0b17aa",
   "metadata": {},
   "outputs": [
    {
     "name": "stdout",
     "output_type": "stream",
     "text": [
      "linkage variable: (array(76.01765166), array(106.), 100.01104549858798)\n"
     ]
    },
    {
     "ename": "NameError",
     "evalue": "name 'grip' is not defined",
     "output_type": "error",
     "traceback": [
      "\u001b[0;31m---------------------------------------------------------------------------\u001b[0m",
      "\u001b[0;31mNameError\u001b[0m                                 Traceback (most recent call last)",
      "\u001b[0;32m<ipython-input-3-e9f3c3119094>\u001b[0m in \u001b[0;36m<module>\u001b[0;34m\u001b[0m\n\u001b[0;32m----> 1\u001b[0;31m \u001b[0mgrip5B\u001b[0m\u001b[0;34m.\u001b[0m\u001b[0mtip_run_arc\u001b[0m\u001b[0;34m(\u001b[0m\u001b[0;36m11\u001b[0m\u001b[0;34m,\u001b[0m\u001b[0;36m90\u001b[0m\u001b[0;34m,\u001b[0m\u001b[0;36m1\u001b[0m\u001b[0;34m,\u001b[0m\u001b[0;36m3\u001b[0m\u001b[0;34m)\u001b[0m\u001b[0;34m\u001b[0m\u001b[0;34m\u001b[0m\u001b[0m\n\u001b[0m",
      "\u001b[0;32m~/parrot_manipulation/script/fivebar_finger_gripper.py\u001b[0m in \u001b[0;36mtip_run_arc\u001b[0;34m(radius, angle, direction, step)\u001b[0m\n\u001b[1;32m     93\u001b[0m         \u001b[0;32mif\u001b[0m \u001b[0mdirection\u001b[0m \u001b[0;34m!=\u001b[0m \u001b[0;36m0\u001b[0m\u001b[0;34m:\u001b[0m\u001b[0;34m\u001b[0m\u001b[0;34m\u001b[0m\u001b[0m\n\u001b[1;32m     94\u001b[0m             \u001b[0my\u001b[0m \u001b[0;34m=\u001b[0m \u001b[0;34m-\u001b[0m\u001b[0my\u001b[0m\u001b[0;34m\u001b[0m\u001b[0;34m\u001b[0m\u001b[0m\n\u001b[0;32m---> 95\u001b[0;31m         \u001b[0mset_tip_dist\u001b[0m\u001b[0;34m(\u001b[0m\u001b[0mx\u001b[0m\u001b[0;34m,\u001b[0m\u001b[0my\u001b[0m\u001b[0;34m)\u001b[0m\u001b[0;34m\u001b[0m\u001b[0;34m\u001b[0m\u001b[0m\n\u001b[0m\u001b[1;32m     96\u001b[0m \u001b[0;34m\u001b[0m\u001b[0m\n\u001b[1;32m     97\u001b[0m \u001b[0;34m\u001b[0m\u001b[0m\n",
      "\u001b[0;32m~/parrot_manipulation/script/fivebar_finger_gripper.py\u001b[0m in \u001b[0;36mset_tip_dist\u001b[0;34m(dx, dy)\u001b[0m\n\u001b[1;32m     80\u001b[0m     \u001b[0ml21\u001b[0m \u001b[0;34m=\u001b[0m \u001b[0msqrt\u001b[0m\u001b[0;34m(\u001b[0m\u001b[0mL1\u001b[0m\u001b[0;34m**\u001b[0m\u001b[0;36m2\u001b[0m\u001b[0;34m+\u001b[0m\u001b[0mL2\u001b[0m\u001b[0;34m**\u001b[0m\u001b[0;36m2\u001b[0m\u001b[0;34m-\u001b[0m\u001b[0;36m2\u001b[0m\u001b[0;34m*\u001b[0m\u001b[0mL1\u001b[0m\u001b[0;34m*\u001b[0m\u001b[0mL2\u001b[0m\u001b[0;34m*\u001b[0m\u001b[0mcos\u001b[0m\u001b[0;34m(\u001b[0m\u001b[0mradians\u001b[0m\u001b[0;34m(\u001b[0m\u001b[0mq21\u001b[0m\u001b[0;34m)\u001b[0m\u001b[0;34m)\u001b[0m\u001b[0;34m)\u001b[0m\u001b[0;34m;\u001b[0m \u001b[0;31m# compute Link21 length\u001b[0m\u001b[0;34m\u001b[0m\u001b[0;34m\u001b[0m\u001b[0m\n\u001b[1;32m     81\u001b[0m     \u001b[0mprint\u001b[0m \u001b[0;34m(\u001b[0m\u001b[0;34m'linkage variable:'\u001b[0m\u001b[0;34m,\u001b[0m\u001b[0;34m(\u001b[0m\u001b[0mq1\u001b[0m\u001b[0;34m,\u001b[0m\u001b[0mq21\u001b[0m\u001b[0;34m,\u001b[0m\u001b[0ml21\u001b[0m\u001b[0;34m)\u001b[0m\u001b[0;34m)\u001b[0m\u001b[0;34m\u001b[0m\u001b[0;34m\u001b[0m\u001b[0m\n\u001b[0;32m---> 82\u001b[0;31m     \u001b[0mgrip\u001b[0m\u001b[0;34m.\u001b[0m\u001b[0mgripper_action\u001b[0m\u001b[0;34m(\u001b[0m\u001b[0mint\u001b[0m\u001b[0;34m(\u001b[0m\u001b[0mang2grip\u001b[0m\u001b[0;34m(\u001b[0m\u001b[0mq1\u001b[0m\u001b[0;34m)\u001b[0m\u001b[0;34m)\u001b[0m\u001b[0;34m)\u001b[0m\u001b[0;34m\u001b[0m\u001b[0;34m\u001b[0m\u001b[0m\n\u001b[0m\u001b[1;32m     83\u001b[0m     \u001b[0mprint\u001b[0m\u001b[0;34m(\u001b[0m\u001b[0;34m'gripper_cmd:'\u001b[0m\u001b[0;34m,\u001b[0m \u001b[0mang2grip\u001b[0m\u001b[0;34m(\u001b[0m\u001b[0mq1\u001b[0m\u001b[0;34m)\u001b[0m\u001b[0;34m)\u001b[0m\u001b[0;34m\u001b[0m\u001b[0;34m\u001b[0m\u001b[0m\n\u001b[1;32m     84\u001b[0m     \u001b[0;32mif\u001b[0m \u001b[0mfinger2move\u001b[0m \u001b[0;34m==\u001b[0m \u001b[0;36m0\u001b[0m\u001b[0;34m:\u001b[0m\u001b[0;34m\u001b[0m\u001b[0;34m\u001b[0m\u001b[0m\n",
      "\u001b[0;31mNameError\u001b[0m: name 'grip' is not defined"
     ]
    }
   ],
   "source": [
    "grip5B.tip_run_arc(11,90,1,3)"
   ]
  },
  {
   "cell_type": "code",
   "execution_count": null,
   "id": "60bc93f7",
   "metadata": {},
   "outputs": [],
   "source": []
  }
 ],
 "metadata": {
  "kernelspec": {
   "display_name": "Python 3",
   "language": "python",
   "name": "python3"
  },
  "language_info": {
   "codemirror_mode": {
    "name": "ipython",
    "version": 3
   },
   "file_extension": ".py",
   "mimetype": "text/x-python",
   "name": "python",
   "nbconvert_exporter": "python",
   "pygments_lexer": "ipython3",
   "version": "3.6.13"
  }
 },
 "nbformat": 4,
 "nbformat_minor": 5
}
