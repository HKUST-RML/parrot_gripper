{
 "cells": [
  {
   "cell_type": "code",
   "execution_count": null,
   "id": "6e301770",
   "metadata": {},
   "outputs": [],
   "source": [
    "#!/usr/bin/env python3\n",
    "import time\n",
    "import numpy as np\n",
    "from math import *\n",
    "import matplotlib.pyplot as plt\n",
    "from scipy import interpolate"
   ]
  },
  {
   "cell_type": "code",
   "execution_count": null,
   "id": "6592865d",
   "metadata": {},
   "outputs": [],
   "source": [
    "#urx for ur10 and gripper\n",
    "import urx\n",
    "import math3d as m3d\n",
    "from urx.robotiq_two_finger_gripper import Robotiq_Two_Finger_Gripper\n",
    "ur = urx.Robot(\"192.168.1.102\")\n",
    "gripper = Robotiq_Two_Finger_Gripper(ur)\n",
    "ur.set_tcp((0, 0, 0, 0, 0, 0))\n",
    "tcp_acc=0.05\n",
    "tcp_vel=0.05\n",
    "time.sleep(0.2)\n",
    "pose = ur.get_pose()\n",
    "print(pose)"
   ]
  },
  {
   "cell_type": "code",
   "execution_count": null,
   "id": "d134fa27",
   "metadata": {},
   "outputs": [],
   "source": [
    "import palm"
   ]
  },
  {
   "cell_type": "code",
   "execution_count": null,
   "id": "ade88107",
   "metadata": {},
   "outputs": [],
   "source": [
    "import fivebar_finger_gripper as grip5B\n",
    "grip5B.set_gripper(gripper)"
   ]
  },
  {
   "cell_type": "code",
   "execution_count": null,
   "id": "797169fb",
   "metadata": {},
   "outputs": [],
   "source": [
    "palm.enable_motor()"
   ]
  },
  {
   "cell_type": "code",
   "execution_count": null,
   "id": "70825fc7",
   "metadata": {},
   "outputs": [],
   "source": [
    "palm.home()"
   ]
  },
  {
   "cell_type": "code",
   "execution_count": null,
   "id": "b77b8bce",
   "metadata": {},
   "outputs": [],
   "source": [
    "palm.disable_motor()"
   ]
  },
  {
   "cell_type": "code",
   "execution_count": null,
   "id": "7ba89008",
   "metadata": {},
   "outputs": [],
   "source": []
  },
  {
   "cell_type": "code",
   "execution_count": null,
   "id": "997cc904",
   "metadata": {},
   "outputs": [],
   "source": [
    "grip5B.set_servo_angle(0,180)\n",
    "time.sleep(1)\n",
    "grip5B.grip.gripper_activate()\n",
    "grip5B.set_tip_dist(50,0)"
   ]
  },
  {
   "cell_type": "code",
   "execution_count": null,
   "id": "3f0f23fd",
   "metadata": {},
   "outputs": [],
   "source": [
    "grip5B.set_servo_angle(0,180)"
   ]
  },
  {
   "cell_type": "code",
   "execution_count": null,
   "id": "735a2c8a",
   "metadata": {},
   "outputs": [],
   "source": []
  },
  {
   "cell_type": "code",
   "execution_count": null,
   "id": "3912b6b3",
   "metadata": {},
   "outputs": [],
   "source": [
    "grip5B.grip.gripper_action(0)"
   ]
  },
  {
   "cell_type": "code",
   "execution_count": null,
   "id": "c4cf0111",
   "metadata": {},
   "outputs": [],
   "source": [
    "grip5B.set_tip_dist(-2,0)"
   ]
  },
  {
   "cell_type": "code",
   "execution_count": null,
   "id": "eb43c79f",
   "metadata": {},
   "outputs": [],
   "source": [
    "grip5B.set_servo_angle(30,180)"
   ]
  },
  {
   "cell_type": "code",
   "execution_count": null,
   "id": "cc0b17aa",
   "metadata": {},
   "outputs": [],
   "source": [
    "grip5B.tip_run_arc(11,90,1,3)"
   ]
  },
  {
   "cell_type": "markdown",
   "id": "41a3ee7f",
   "metadata": {},
   "source": [
    "#### gripper hardware demo"
   ]
  },
  {
   "cell_type": "code",
   "execution_count": null,
   "id": "e6fe7059",
   "metadata": {},
   "outputs": [],
   "source": [
    "#init\n",
    "grip5B.set_servo_angle(0,180)\n",
    "palm.enable_motor()\n",
    "palm.goto((0,90))\n",
    "time.sleep(1)\n",
    "grip5B.grip.gripper_activate()\n",
    "grip5B.set_tip_dist(50,0)"
   ]
  },
  {
   "cell_type": "code",
   "execution_count": null,
   "id": "a923488e",
   "metadata": {},
   "outputs": [],
   "source": [
    "#palm motion\n",
    "palm_spd = 0.1\n",
    "rotate_spd = 0.09\n",
    "cicle_spd = 0.2\n",
    "grip5B.set_tip_dist(50,0)\n",
    "palm.run_circle((0,90),60, cicle_spd,3)\n",
    "time.sleep(palm_spd)\n",
    "palm.goto((0,190))\n",
    "time.sleep(palm_spd)\n",
    "palm.rotate(palm.get_pos(),(0,80),-110, rotate_spd)\n",
    "time.sleep(palm_spd)\n",
    "for i in range(2):\n",
    "    palm.rotate(palm.get_pos(),(0,80),220, rotate_spd)\n",
    "    time.sleep(palm_spd)\n",
    "    palm.rotate(palm.get_pos(),(0,80),-220, rotate_spd)\n",
    "    time.sleep(palm_spd)\n",
    "palm.rotate(palm.get_pos(),(0,80),110, rotate_spd)\n",
    "time.sleep(palm_spd)\n",
    "palm.goto((0,90))\n",
    "time.sleep(0.2)\n",
    "grip5B.set_tip_dist(-60,0)\n",
    "time.sleep(0.5)\n",
    "grip5B.set_tip_dist(50,0)\n",
    "time.sleep(0.5)\n",
    "for i in range(2):\n",
    "    grip5B.set_tip_dist(50,40)\n",
    "    time.sleep(0.5)\n",
    "    grip5B.set_tip_dist(50,-40)\n",
    "    time.sleep(0.5)\n",
    "grip5B.set_tip_dist(50,0)"
   ]
  },
  {
   "cell_type": "markdown",
   "id": "08d7157d",
   "metadata": {},
   "source": [
    "#### rotation"
   ]
  },
  {
   "cell_type": "code",
   "execution_count": null,
   "id": "502cbe7e",
   "metadata": {},
   "outputs": [],
   "source": [
    "## init\n",
    "palm.enable_motor()\n",
    "palm.goto((0,80))\n",
    "grip5B.set_servo_angle(0,180)\n",
    "ur.set_tcp((0, 0, 0.295, 0, 0, 0)) #upper jaw's tip to tool0 29.5mm\n",
    "time.sleep(0.5)\n",
    "grip5B.grip.gripper_activate()\n",
    "time.sleep(0.5)\n",
    "grip5B.set_tip_dist(20,0)"
   ]
  },
  {
   "cell_type": "code",
   "execution_count": null,
   "id": "18b4fcad",
   "metadata": {},
   "outputs": [],
   "source": [
    "pick_pose = (0.21, 0.49, 0.018, pi, 0, 0)\n",
    "ur.movel(pick_pose, tcp_acc, tcp_vel)\n",
    "time.sleep(0.5)\n",
    "grip5B.set_tip_dist(11,0)"
   ]
  },
  {
   "cell_type": "code",
   "execution_count": null,
   "id": "9260348a",
   "metadata": {},
   "outputs": [],
   "source": [
    "lift_pose = ur.getl()\n",
    "lift_pose[2] = lift_pose[2]+0.05\n",
    "ur.movel(lift_pose, tcp_acc, tcp_vel)\n",
    "time.sleep(0.5)\n",
    "grip5B.tip_run_arc(10,70,0,5)"
   ]
  },
  {
   "cell_type": "code",
   "execution_count": null,
   "id": "fec3b939",
   "metadata": {},
   "outputs": [],
   "source": [
    "palm.goto((5,150))\n",
    "time.sleep(0.5)\n",
    "palm.goto((20,150))\n",
    "time.sleep(0.5)\n",
    "grip5B.set_tip_dist(30,10)"
   ]
  },
  {
   "cell_type": "code",
   "execution_count": null,
   "id": "4a254793",
   "metadata": {},
   "outputs": [],
   "source": [
    "palm.goto((25,140))\n",
    "grip5B.set_tip_dist(30,-10)"
   ]
  },
  {
   "cell_type": "code",
   "execution_count": null,
   "id": "f88821ed",
   "metadata": {},
   "outputs": [],
   "source": [
    "grip5B.set_tip_dist(0,-10)"
   ]
  },
  {
   "cell_type": "code",
   "execution_count": null,
   "id": "2fd6a755",
   "metadata": {},
   "outputs": [],
   "source": [
    "grip5B.set_tip_dist(0,10)"
   ]
  },
  {
   "cell_type": "code",
   "execution_count": null,
   "id": "59251c55",
   "metadata": {},
   "outputs": [],
   "source": [
    "palm.goto((0,130))\n",
    "time.sleep(0.5)\n",
    "palm.goto((0,140))"
   ]
  },
  {
   "cell_type": "code",
   "execution_count": null,
   "id": "02456a34",
   "metadata": {},
   "outputs": [],
   "source": [
    "palm.goto((-12,140))\n",
    "grip5B.set_tip_dist(30,10)\n",
    "time.sleep(0.5)\n",
    "grip5B.set_tip_dist(30,0)"
   ]
  },
  {
   "cell_type": "code",
   "execution_count": null,
   "id": "a10cdcec",
   "metadata": {},
   "outputs": [],
   "source": [
    "palm.get_pos()"
   ]
  },
  {
   "cell_type": "code",
   "execution_count": null,
   "id": "36d2aaa0",
   "metadata": {},
   "outputs": [],
   "source": [
    "palm.goto((-12,160))"
   ]
  },
  {
   "cell_type": "code",
   "execution_count": null,
   "id": "a85b171d",
   "metadata": {},
   "outputs": [],
   "source": [
    "pick_pose = (0.222, 0.49, 0.017, pi, 0, 0)\n",
    "ur.movel(pick_pose, tcp_acc, tcp_vel)"
   ]
  },
  {
   "cell_type": "code",
   "execution_count": null,
   "id": "2e76feab",
   "metadata": {},
   "outputs": [],
   "source": []
  }
 ],
 "metadata": {
  "kernelspec": {
   "display_name": "Python 3",
   "language": "python",
   "name": "python3"
  },
  "language_info": {
   "codemirror_mode": {
    "name": "ipython",
    "version": 3
   },
   "file_extension": ".py",
   "mimetype": "text/x-python",
   "name": "python",
   "nbconvert_exporter": "python",
   "pygments_lexer": "ipython3",
   "version": "3.6.13"
  }
 },
 "nbformat": 4,
 "nbformat_minor": 5
}
