{
 "cells": [
  {
   "cell_type": "code",
   "execution_count": null,
   "id": "6e301770",
   "metadata": {},
   "outputs": [],
   "source": [
    "#!/usr/bin/env python3\n",
    "import time\n",
    "import numpy as np\n",
    "from math import *\n",
    "import matplotlib.pyplot as plt\n",
    "from scipy import interpolate"
   ]
  },
  {
   "cell_type": "code",
   "execution_count": null,
   "id": "6592865d",
   "metadata": {},
   "outputs": [],
   "source": [
    "#urx for ur10 and gripper\n",
    "import urx\n",
    "import math3d as m3d\n",
    "from urx.robotiq_two_finger_gripper import Robotiq_Two_Finger_Gripper\n",
    "ur = urx.Robot(\"192.168.1.102\")\n",
    "gripper = Robotiq_Two_Finger_Gripper(ur)\n",
    "ur.set_tcp((0, 0, 0, 0, 0, 0))\n",
    "tcp_acc=0.05\n",
    "tcp_vel=0.05\n",
    "time.sleep(0.2)\n",
    "pose = ur.get_pose()\n",
    "print(pose)"
   ]
  },
  {
   "cell_type": "code",
   "execution_count": null,
   "id": "d134fa27",
   "metadata": {},
   "outputs": [],
   "source": [
    "import palm"
   ]
  },
  {
   "cell_type": "code",
   "execution_count": null,
   "id": "74d716fe",
   "metadata": {},
   "outputs": [],
   "source": [
    "import fivebar_finger_gripper as grip5B\n",
    "grip5B.set_gripper(gripper)"
   ]
  },
  {
   "cell_type": "code",
   "execution_count": null,
   "id": "997cc904",
   "metadata": {},
   "outputs": [],
   "source": [
    "grip5B.grip.gripper_activate()"
   ]
  },
  {
   "cell_type": "code",
   "execution_count": null,
   "id": "3912b6b3",
   "metadata": {},
   "outputs": [],
   "source": [
    "grip5B.grip.gripper_action(0)"
   ]
  },
  {
   "cell_type": "code",
   "execution_count": null,
   "id": "c4cf0111",
   "metadata": {},
   "outputs": [],
   "source": [
    "grip5B.set_tip_dist(11,0)"
   ]
  },
  {
   "cell_type": "code",
   "execution_count": null,
   "id": "eb43c79f",
   "metadata": {},
   "outputs": [],
   "source": [
    "grip5B.set_servo_angle(0,180)"
   ]
  },
  {
   "cell_type": "code",
   "execution_count": null,
   "id": "cc0b17aa",
   "metadata": {},
   "outputs": [],
   "source": [
    "grip5B.tip_run_arc(12,90,1,3)"
   ]
  },
  {
   "cell_type": "code",
   "execution_count": null,
   "id": "60bc93f7",
   "metadata": {},
   "outputs": [],
   "source": []
  }
 ],
 "metadata": {
  "kernelspec": {
   "display_name": "Python 3",
   "language": "python",
   "name": "python3"
  },
  "language_info": {
   "codemirror_mode": {
    "name": "ipython",
    "version": 3
   },
   "file_extension": ".py",
   "mimetype": "text/x-python",
   "name": "python",
   "nbconvert_exporter": "python",
   "pygments_lexer": "ipython3",
   "version": "3.6.13"
  }
 },
 "nbformat": 4,
 "nbformat_minor": 5
}
