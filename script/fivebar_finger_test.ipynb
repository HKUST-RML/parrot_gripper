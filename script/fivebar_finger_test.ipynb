{
 "cells": [
  {
   "cell_type": "code",
   "execution_count": 1,
   "id": "6e301770",
   "metadata": {},
   "outputs": [],
   "source": [
    "#!/usr/bin/env python3\n",
    "import time\n",
    "import numpy as np\n",
    "from math import *\n",
    "import matplotlib.pyplot as plt\n",
    "from scipy import interpolate"
   ]
  },
  {
   "cell_type": "code",
   "execution_count": 2,
   "id": "6592865d",
   "metadata": {},
   "outputs": [
    {
     "ename": "timeout",
     "evalue": "timed out",
     "output_type": "error",
     "traceback": [
      "\u001b[0;31m---------------------------------------------------------------------------\u001b[0m",
      "\u001b[0;31mtimeout\u001b[0m                                   Traceback (most recent call last)",
      "\u001b[0;32m<ipython-input-2-4e7b028162a6>\u001b[0m in \u001b[0;36m<module>\u001b[0;34m\u001b[0m\n\u001b[1;32m      3\u001b[0m \u001b[0;32mimport\u001b[0m \u001b[0mmath3d\u001b[0m \u001b[0;32mas\u001b[0m \u001b[0mm3d\u001b[0m\u001b[0;34m\u001b[0m\u001b[0;34m\u001b[0m\u001b[0m\n\u001b[1;32m      4\u001b[0m \u001b[0;32mfrom\u001b[0m \u001b[0murx\u001b[0m\u001b[0;34m.\u001b[0m\u001b[0mrobotiq_two_finger_gripper\u001b[0m \u001b[0;32mimport\u001b[0m \u001b[0mRobotiq_Two_Finger_Gripper\u001b[0m\u001b[0;34m\u001b[0m\u001b[0;34m\u001b[0m\u001b[0m\n\u001b[0;32m----> 5\u001b[0;31m \u001b[0mur\u001b[0m \u001b[0;34m=\u001b[0m \u001b[0murx\u001b[0m\u001b[0;34m.\u001b[0m\u001b[0mRobot\u001b[0m\u001b[0;34m(\u001b[0m\u001b[0;34m\"192.168.1.102\"\u001b[0m\u001b[0;34m)\u001b[0m\u001b[0;34m\u001b[0m\u001b[0;34m\u001b[0m\u001b[0m\n\u001b[0m\u001b[1;32m      6\u001b[0m \u001b[0mgripper\u001b[0m \u001b[0;34m=\u001b[0m \u001b[0mRobotiq_Two_Finger_Gripper\u001b[0m\u001b[0;34m(\u001b[0m\u001b[0mur\u001b[0m\u001b[0;34m)\u001b[0m\u001b[0;34m\u001b[0m\u001b[0;34m\u001b[0m\u001b[0m\n\u001b[1;32m      7\u001b[0m \u001b[0mur\u001b[0m\u001b[0;34m.\u001b[0m\u001b[0mset_tcp\u001b[0m\u001b[0;34m(\u001b[0m\u001b[0;34m(\u001b[0m\u001b[0;36m0\u001b[0m\u001b[0;34m,\u001b[0m \u001b[0;36m0\u001b[0m\u001b[0;34m,\u001b[0m \u001b[0;36m0\u001b[0m\u001b[0;34m,\u001b[0m \u001b[0;36m0\u001b[0m\u001b[0;34m,\u001b[0m \u001b[0;36m0\u001b[0m\u001b[0;34m,\u001b[0m \u001b[0;36m0\u001b[0m\u001b[0;34m)\u001b[0m\u001b[0;34m)\u001b[0m\u001b[0;34m\u001b[0m\u001b[0;34m\u001b[0m\u001b[0m\n",
      "\u001b[0;32m~/anaconda3/envs/parrot/lib/python3.6/site-packages/urx/robot.py\u001b[0m in \u001b[0;36m__init__\u001b[0;34m(self, host, use_rt, use_simulation)\u001b[0m\n\u001b[1;32m     25\u001b[0m \u001b[0;34m\u001b[0m\u001b[0m\n\u001b[1;32m     26\u001b[0m     \u001b[0;32mdef\u001b[0m \u001b[0m__init__\u001b[0m\u001b[0;34m(\u001b[0m\u001b[0mself\u001b[0m\u001b[0;34m,\u001b[0m \u001b[0mhost\u001b[0m\u001b[0;34m,\u001b[0m \u001b[0muse_rt\u001b[0m\u001b[0;34m=\u001b[0m\u001b[0;32mFalse\u001b[0m\u001b[0;34m,\u001b[0m \u001b[0muse_simulation\u001b[0m\u001b[0;34m=\u001b[0m\u001b[0;32mFalse\u001b[0m\u001b[0;34m)\u001b[0m\u001b[0;34m:\u001b[0m\u001b[0;34m\u001b[0m\u001b[0;34m\u001b[0m\u001b[0m\n\u001b[0;32m---> 27\u001b[0;31m         \u001b[0mURRobot\u001b[0m\u001b[0;34m.\u001b[0m\u001b[0m__init__\u001b[0m\u001b[0;34m(\u001b[0m\u001b[0mself\u001b[0m\u001b[0;34m,\u001b[0m \u001b[0mhost\u001b[0m\u001b[0;34m,\u001b[0m \u001b[0muse_rt\u001b[0m\u001b[0;34m,\u001b[0m \u001b[0muse_simulation\u001b[0m\u001b[0;34m)\u001b[0m\u001b[0;34m\u001b[0m\u001b[0;34m\u001b[0m\u001b[0m\n\u001b[0m\u001b[1;32m     28\u001b[0m         \u001b[0mself\u001b[0m\u001b[0;34m.\u001b[0m\u001b[0mcsys\u001b[0m \u001b[0;34m=\u001b[0m \u001b[0mm3d\u001b[0m\u001b[0;34m.\u001b[0m\u001b[0mTransform\u001b[0m\u001b[0;34m(\u001b[0m\u001b[0;34m)\u001b[0m\u001b[0;34m\u001b[0m\u001b[0;34m\u001b[0m\u001b[0m\n\u001b[1;32m     29\u001b[0m \u001b[0;34m\u001b[0m\u001b[0m\n",
      "\u001b[0;32m~/anaconda3/envs/parrot/lib/python3.6/site-packages/urx/urrobot.py\u001b[0m in \u001b[0;36m__init__\u001b[0;34m(self, host, use_rt, use_simulation)\u001b[0m\n\u001b[1;32m     36\u001b[0m \u001b[0;34m\u001b[0m\u001b[0m\n\u001b[1;32m     37\u001b[0m         \u001b[0mself\u001b[0m\u001b[0;34m.\u001b[0m\u001b[0mlogger\u001b[0m\u001b[0;34m.\u001b[0m\u001b[0mdebug\u001b[0m\u001b[0;34m(\u001b[0m\u001b[0;34m\"Opening secondary monitor socket\"\u001b[0m\u001b[0;34m)\u001b[0m\u001b[0;34m\u001b[0m\u001b[0;34m\u001b[0m\u001b[0m\n\u001b[0;32m---> 38\u001b[0;31m         \u001b[0mself\u001b[0m\u001b[0;34m.\u001b[0m\u001b[0msecmon\u001b[0m \u001b[0;34m=\u001b[0m \u001b[0mursecmon\u001b[0m\u001b[0;34m.\u001b[0m\u001b[0mSecondaryMonitor\u001b[0m\u001b[0;34m(\u001b[0m\u001b[0mself\u001b[0m\u001b[0;34m.\u001b[0m\u001b[0mhost\u001b[0m\u001b[0;34m,\u001b[0m \u001b[0muse_simulation\u001b[0m\u001b[0;34m)\u001b[0m  \u001b[0;31m# data from robot at 10Hz\u001b[0m\u001b[0;34m\u001b[0m\u001b[0;34m\u001b[0m\u001b[0m\n\u001b[0m\u001b[1;32m     39\u001b[0m \u001b[0;34m\u001b[0m\u001b[0m\n\u001b[1;32m     40\u001b[0m         \u001b[0mself\u001b[0m\u001b[0;34m.\u001b[0m\u001b[0mrtmon\u001b[0m \u001b[0;34m=\u001b[0m \u001b[0;32mNone\u001b[0m\u001b[0;34m\u001b[0m\u001b[0;34m\u001b[0m\u001b[0m\n",
      "\u001b[0;32m~/anaconda3/envs/parrot/lib/python3.6/site-packages/urx/ursecmon.py\u001b[0m in \u001b[0;36m__init__\u001b[0;34m(self, host, use_simulation)\u001b[0m\n\u001b[1;32m    244\u001b[0m         \u001b[0mself\u001b[0m\u001b[0;34m.\u001b[0m\u001b[0mhost\u001b[0m \u001b[0;34m=\u001b[0m \u001b[0mhost\u001b[0m\u001b[0;34m\u001b[0m\u001b[0;34m\u001b[0m\u001b[0m\n\u001b[1;32m    245\u001b[0m         \u001b[0msecondary_port\u001b[0m \u001b[0;34m=\u001b[0m \u001b[0;36m30002\u001b[0m    \u001b[0;31m# Secondary client interface on Universal Robots\u001b[0m\u001b[0;34m\u001b[0m\u001b[0;34m\u001b[0m\u001b[0m\n\u001b[0;32m--> 246\u001b[0;31m         \u001b[0mself\u001b[0m\u001b[0;34m.\u001b[0m\u001b[0m_s_secondary\u001b[0m \u001b[0;34m=\u001b[0m \u001b[0msocket\u001b[0m\u001b[0;34m.\u001b[0m\u001b[0mcreate_connection\u001b[0m\u001b[0;34m(\u001b[0m\u001b[0;34m(\u001b[0m\u001b[0mself\u001b[0m\u001b[0;34m.\u001b[0m\u001b[0mhost\u001b[0m\u001b[0;34m,\u001b[0m \u001b[0msecondary_port\u001b[0m\u001b[0;34m)\u001b[0m\u001b[0;34m,\u001b[0m \u001b[0mtimeout\u001b[0m\u001b[0;34m=\u001b[0m\u001b[0;36m0.5\u001b[0m\u001b[0;34m)\u001b[0m\u001b[0;34m\u001b[0m\u001b[0;34m\u001b[0m\u001b[0m\n\u001b[0m\u001b[1;32m    247\u001b[0m         \u001b[0mself\u001b[0m\u001b[0;34m.\u001b[0m\u001b[0m_prog_queue\u001b[0m \u001b[0;34m=\u001b[0m \u001b[0;34m[\u001b[0m\u001b[0;34m]\u001b[0m\u001b[0;34m\u001b[0m\u001b[0;34m\u001b[0m\u001b[0m\n\u001b[1;32m    248\u001b[0m         \u001b[0mself\u001b[0m\u001b[0;34m.\u001b[0m\u001b[0m_prog_queue_lock\u001b[0m \u001b[0;34m=\u001b[0m \u001b[0mLock\u001b[0m\u001b[0;34m(\u001b[0m\u001b[0;34m)\u001b[0m\u001b[0;34m\u001b[0m\u001b[0;34m\u001b[0m\u001b[0m\n",
      "\u001b[0;32m~/anaconda3/envs/parrot/lib/python3.6/socket.py\u001b[0m in \u001b[0;36mcreate_connection\u001b[0;34m(address, timeout, source_address)\u001b[0m\n\u001b[1;32m    722\u001b[0m \u001b[0;34m\u001b[0m\u001b[0m\n\u001b[1;32m    723\u001b[0m     \u001b[0;32mif\u001b[0m \u001b[0merr\u001b[0m \u001b[0;32mis\u001b[0m \u001b[0;32mnot\u001b[0m \u001b[0;32mNone\u001b[0m\u001b[0;34m:\u001b[0m\u001b[0;34m\u001b[0m\u001b[0;34m\u001b[0m\u001b[0m\n\u001b[0;32m--> 724\u001b[0;31m         \u001b[0;32mraise\u001b[0m \u001b[0merr\u001b[0m\u001b[0;34m\u001b[0m\u001b[0;34m\u001b[0m\u001b[0m\n\u001b[0m\u001b[1;32m    725\u001b[0m     \u001b[0;32melse\u001b[0m\u001b[0;34m:\u001b[0m\u001b[0;34m\u001b[0m\u001b[0;34m\u001b[0m\u001b[0m\n\u001b[1;32m    726\u001b[0m         \u001b[0;32mraise\u001b[0m \u001b[0merror\u001b[0m\u001b[0;34m(\u001b[0m\u001b[0;34m\"getaddrinfo returns an empty list\"\u001b[0m\u001b[0;34m)\u001b[0m\u001b[0;34m\u001b[0m\u001b[0;34m\u001b[0m\u001b[0m\n",
      "\u001b[0;32m~/anaconda3/envs/parrot/lib/python3.6/socket.py\u001b[0m in \u001b[0;36mcreate_connection\u001b[0;34m(address, timeout, source_address)\u001b[0m\n\u001b[1;32m    711\u001b[0m             \u001b[0;32mif\u001b[0m \u001b[0msource_address\u001b[0m\u001b[0;34m:\u001b[0m\u001b[0;34m\u001b[0m\u001b[0;34m\u001b[0m\u001b[0m\n\u001b[1;32m    712\u001b[0m                 \u001b[0msock\u001b[0m\u001b[0;34m.\u001b[0m\u001b[0mbind\u001b[0m\u001b[0;34m(\u001b[0m\u001b[0msource_address\u001b[0m\u001b[0;34m)\u001b[0m\u001b[0;34m\u001b[0m\u001b[0;34m\u001b[0m\u001b[0m\n\u001b[0;32m--> 713\u001b[0;31m             \u001b[0msock\u001b[0m\u001b[0;34m.\u001b[0m\u001b[0mconnect\u001b[0m\u001b[0;34m(\u001b[0m\u001b[0msa\u001b[0m\u001b[0;34m)\u001b[0m\u001b[0;34m\u001b[0m\u001b[0;34m\u001b[0m\u001b[0m\n\u001b[0m\u001b[1;32m    714\u001b[0m             \u001b[0;31m# Break explicitly a reference cycle\u001b[0m\u001b[0;34m\u001b[0m\u001b[0;34m\u001b[0m\u001b[0;34m\u001b[0m\u001b[0m\n\u001b[1;32m    715\u001b[0m             \u001b[0merr\u001b[0m \u001b[0;34m=\u001b[0m \u001b[0;32mNone\u001b[0m\u001b[0;34m\u001b[0m\u001b[0;34m\u001b[0m\u001b[0m\n",
      "\u001b[0;31mtimeout\u001b[0m: timed out"
     ]
    }
   ],
   "source": [
    "#urx for ur10 and gripper\n",
    "import urx\n",
    "import math3d as m3d\n",
    "from urx.robotiq_two_finger_gripper import Robotiq_Two_Finger_Gripper\n",
    "ur = urx.Robot(\"192.168.1.102\")\n",
    "gripper = Robotiq_Two_Finger_Gripper(ur)\n",
    "ur.set_tcp((0, 0, 0, 0, 0, 0))\n",
    "tcp_acc=0.05\n",
    "tcp_vel=0.05\n",
    "time.sleep(0.2)\n",
    "pose = ur.get_pose()\n",
    "print(pose)"
   ]
  },
  {
   "cell_type": "code",
   "execution_count": 3,
   "id": "d134fa27",
   "metadata": {},
   "outputs": [
    {
     "name": "stdout",
     "output_type": "stream",
     "text": [
      "finding an odrive...\n",
      "Odrive Voltage: 13.27170467376709\n"
     ]
    }
   ],
   "source": [
    "import palm"
   ]
  },
  {
   "cell_type": "code",
   "execution_count": 4,
   "id": "ade88107",
   "metadata": {},
   "outputs": [
    {
     "name": "stdout",
     "output_type": "stream",
     "text": [
      "trying /dev/ttyACM 1\n"
     ]
    }
   ],
   "source": [
    "import fivebar_finger_gripper as grip5B\n",
    "grip5B.set_gripper(gripper)"
   ]
  },
  {
   "cell_type": "code",
   "execution_count": 3,
   "id": "797169fb",
   "metadata": {},
   "outputs": [
    {
     "ename": "NameError",
     "evalue": "name 'palm' is not defined",
     "output_type": "error",
     "traceback": [
      "\u001b[0;31m---------------------------------------------------------------------------\u001b[0m",
      "\u001b[0;31mNameError\u001b[0m                                 Traceback (most recent call last)",
      "\u001b[0;32m<ipython-input-3-344cd7cfa139>\u001b[0m in \u001b[0;36m<module>\u001b[0;34m\u001b[0m\n\u001b[0;32m----> 1\u001b[0;31m \u001b[0mpalm\u001b[0m\u001b[0;34m.\u001b[0m\u001b[0menable_motor\u001b[0m\u001b[0;34m(\u001b[0m\u001b[0;34m)\u001b[0m\u001b[0;34m\u001b[0m\u001b[0;34m\u001b[0m\u001b[0m\n\u001b[0m",
      "\u001b[0;31mNameError\u001b[0m: name 'palm' is not defined"
     ]
    }
   ],
   "source": [
    "palm.enable_motor()"
   ]
  },
  {
   "cell_type": "code",
   "execution_count": 4,
   "id": "70825fc7",
   "metadata": {},
   "outputs": [
    {
     "ename": "NameError",
     "evalue": "name 'palm' is not defined",
     "output_type": "error",
     "traceback": [
      "\u001b[0;31m---------------------------------------------------------------------------\u001b[0m",
      "\u001b[0;31mNameError\u001b[0m                                 Traceback (most recent call last)",
      "\u001b[0;32m<ipython-input-4-7b4439dbddab>\u001b[0m in \u001b[0;36m<module>\u001b[0;34m\u001b[0m\n\u001b[0;32m----> 1\u001b[0;31m \u001b[0mpalm\u001b[0m\u001b[0;34m.\u001b[0m\u001b[0mhome\u001b[0m\u001b[0;34m(\u001b[0m\u001b[0;34m)\u001b[0m\u001b[0;34m\u001b[0m\u001b[0;34m\u001b[0m\u001b[0m\n\u001b[0m",
      "\u001b[0;31mNameError\u001b[0m: name 'palm' is not defined"
     ]
    }
   ],
   "source": [
    "palm.home()"
   ]
  },
  {
   "cell_type": "code",
   "execution_count": null,
   "id": "b77b8bce",
   "metadata": {},
   "outputs": [],
   "source": [
    "palm.disable_motor()"
   ]
  },
  {
   "cell_type": "code",
   "execution_count": null,
   "id": "7ba89008",
   "metadata": {},
   "outputs": [],
   "source": []
  },
  {
   "cell_type": "code",
   "execution_count": 8,
   "id": "997cc904",
   "metadata": {},
   "outputs": [
    {
     "name": "stdout",
     "output_type": "stream",
     "text": [
      "sending msg: a0b180\n",
      "linkage variable: (array(88.47513138), array(106.), 100.011045498588)\n",
      "gripper_cmd: 45.390214432898546\n",
      "sending msg: a0.0b179.89\n"
     ]
    }
   ],
   "source": [
    "grip5B.set_servo_angle(0,180)\n",
    "time.sleep(1)\n",
    "grip5B.grip.gripper_activate()\n",
    "grip5B.set_tip_dist(50,0)"
   ]
  },
  {
   "cell_type": "code",
   "execution_count": 10,
   "id": "3f0f23fd",
   "metadata": {},
   "outputs": [
    {
     "name": "stdout",
     "output_type": "stream",
     "text": [
      "sending msg: a0b180\n"
     ]
    }
   ],
   "source": [
    "grip5B.set_servo_angle(0,180)"
   ]
  },
  {
   "cell_type": "code",
   "execution_count": null,
   "id": "735a2c8a",
   "metadata": {},
   "outputs": [],
   "source": []
  },
  {
   "cell_type": "code",
   "execution_count": null,
   "id": "3912b6b3",
   "metadata": {},
   "outputs": [],
   "source": [
    "grip5B.grip.gripper_action(0)"
   ]
  },
  {
   "cell_type": "code",
   "execution_count": null,
   "id": "c4cf0111",
   "metadata": {},
   "outputs": [],
   "source": [
    "grip5B.set_tip_dist(-2,0)"
   ]
  },
  {
   "cell_type": "code",
   "execution_count": 8,
   "id": "eb43c79f",
   "metadata": {},
   "outputs": [
    {
     "name": "stdout",
     "output_type": "stream",
     "text": [
      "sending msg: a30b180\n"
     ]
    }
   ],
   "source": [
    "grip5B.set_servo_angle(30,180)"
   ]
  },
  {
   "cell_type": "code",
   "execution_count": null,
   "id": "cc0b17aa",
   "metadata": {},
   "outputs": [],
   "source": [
    "grip5B.tip_run_arc(11,90,1,3)"
   ]
  },
  {
   "cell_type": "markdown",
   "id": "41a3ee7f",
   "metadata": {},
   "source": [
    "#### gripper hardware demo"
   ]
  },
  {
   "cell_type": "code",
   "execution_count": 11,
   "id": "e6fe7059",
   "metadata": {},
   "outputs": [
    {
     "name": "stdout",
     "output_type": "stream",
     "text": [
      "sending msg: a0b180\n",
      "enabling motor control...\n",
      "linkage variable: (array(88.47513138), array(106.), 100.011045498588)\n",
      "gripper_cmd: 45.390214432898546\n",
      "sending msg: a0.0b179.89\n"
     ]
    }
   ],
   "source": [
    "#init\n",
    "grip5B.set_servo_angle(0,180)\n",
    "palm.enable_motor()\n",
    "palm.goto((0,90))\n",
    "time.sleep(1)\n",
    "grip5B.grip.gripper_activate()\n",
    "grip5B.set_tip_dist(50,0)"
   ]
  },
  {
   "cell_type": "code",
   "execution_count": 16,
   "id": "a923488e",
   "metadata": {},
   "outputs": [
    {
     "name": "stdout",
     "output_type": "stream",
     "text": [
      "linkage variable: (array(88.47513138), array(106.), 100.011045498588)\n",
      "gripper_cmd: 45.390214432898546\n",
      "sending msg: a0.0b179.89\n",
      "enabling motor control...\n",
      "Rotated to: (104.00663745682317, 66.70084446191994)\n",
      "Rotated to: (-102.34544188664408, 59.50622222097639)\n",
      "Rotated to: (106.67382462014147, 69.44723506164634)\n",
      "Rotated to: (-106.54902111512907, 55.32301022400175)\n",
      "Rotated to: (111.67277948568417, 64.2108520922045)\n",
      "Rotated to: (-4.709508676914798, 195.8888445215124)\n",
      "linkage variable: (array(55.29105904), array(106.), 100.0110454985881)\n",
      "gripper_cmd: 215.77814972330515\n",
      "sending msg: a0.0b179.89\n",
      "linkage variable: (array(88.47513138), array(106.), 100.011045498588)\n",
      "gripper_cmd: 45.390214432898546\n",
      "sending msg: a0.0b179.89\n",
      "linkage variable: (array(93.30756597), array(119.55305147), 105.81698314620756)\n",
      "gripper_cmd: 30.288856358732996\n",
      "sending msg: a0.0b145.92\n",
      "linkage variable: (array(93.30756597), array(119.55305147), 105.81698314620756)\n",
      "gripper_cmd: 30.288856358732996\n",
      "sending msg: a29.08b180.0\n",
      "linkage variable: (array(93.30756597), array(119.55305147), 105.81698314620756)\n",
      "gripper_cmd: 30.288856358732996\n",
      "sending msg: a0.0b145.92\n",
      "linkage variable: (array(93.30756597), array(119.55305147), 105.81698314620756)\n",
      "gripper_cmd: 30.288856358732996\n",
      "sending msg: a29.08b180.0\n",
      "linkage variable: (array(88.47513138), array(106.), 100.011045498588)\n",
      "gripper_cmd: 45.390214432898546\n",
      "sending msg: a0.0b179.89\n"
     ]
    }
   ],
   "source": [
    "#palm motion\n",
    "palm_spd = 0.1\n",
    "rotate_spd = 0.09\n",
    "cicle_spd = 0.2\n",
    "grip5B.set_tip_dist(50,0)\n",
    "palm.run_circle((0,90),60, cicle_spd,3)\n",
    "time.sleep(palm_spd)\n",
    "palm.goto((0,190))\n",
    "time.sleep(palm_spd)\n",
    "palm.rotate(palm.get_pos(),(0,80),-110, rotate_spd)\n",
    "time.sleep(palm_spd)\n",
    "for i in range(2):\n",
    "    palm.rotate(palm.get_pos(),(0,80),220, rotate_spd)\n",
    "    time.sleep(palm_spd)\n",
    "    palm.rotate(palm.get_pos(),(0,80),-220, rotate_spd)\n",
    "    time.sleep(palm_spd)\n",
    "palm.rotate(palm.get_pos(),(0,80),110, rotate_spd)\n",
    "time.sleep(palm_spd)\n",
    "palm.goto((0,90))\n",
    "time.sleep(0.2)\n",
    "grip5B.set_tip_dist(-60,0)\n",
    "time.sleep(0.5)\n",
    "grip5B.set_tip_dist(50,0)\n",
    "time.sleep(0.5)\n",
    "for i in range(2):\n",
    "    grip5B.set_tip_dist(50,40)\n",
    "    time.sleep(0.5)\n",
    "    grip5B.set_tip_dist(50,-40)\n",
    "    time.sleep(0.5)\n",
    "grip5B.set_tip_dist(50,0)"
   ]
  },
  {
   "cell_type": "markdown",
   "id": "08d7157d",
   "metadata": {},
   "source": [
    "#### rotation"
   ]
  },
  {
   "cell_type": "code",
   "execution_count": null,
   "id": "502cbe7e",
   "metadata": {},
   "outputs": [],
   "source": [
    "## init\n",
    "palm.enable_motor()\n",
    "palm.goto((0,80))\n",
    "grip5B.set_servo_angle(0,180)\n",
    "ur.set_tcp((0, 0, 0.295, 0, 0, 0)) #upper jaw's tip to tool0 29.5mm\n",
    "time.sleep(0.5)\n",
    "grip5B.grip.gripper_activate()\n",
    "time.sleep(0.5)\n",
    "grip5B.set_tip_dist(20,0)"
   ]
  },
  {
   "cell_type": "code",
   "execution_count": null,
   "id": "18b4fcad",
   "metadata": {},
   "outputs": [],
   "source": [
    "pick_pose = (0.21, 0.49, 0.018, pi, 0, 0)\n",
    "ur.movel(pick_pose, tcp_acc, tcp_vel)\n",
    "time.sleep(0.5)\n",
    "grip5B.set_tip_dist(11,0)"
   ]
  },
  {
   "cell_type": "code",
   "execution_count": null,
   "id": "9260348a",
   "metadata": {},
   "outputs": [],
   "source": [
    "lift_pose = ur.getl()\n",
    "lift_pose[2] = lift_pose[2]+0.05\n",
    "ur.movel(lift_pose, tcp_acc, tcp_vel)\n",
    "time.sleep(0.5)\n",
    "grip5B.tip_run_arc(10,70,0,5)"
   ]
  },
  {
   "cell_type": "code",
   "execution_count": null,
   "id": "fec3b939",
   "metadata": {},
   "outputs": [],
   "source": [
    "palm.goto((5,150))\n",
    "time.sleep(0.5)\n",
    "palm.goto((20,150))\n",
    "time.sleep(0.5)\n",
    "grip5B.set_tip_dist(30,10)"
   ]
  },
  {
   "cell_type": "code",
   "execution_count": null,
   "id": "4a254793",
   "metadata": {},
   "outputs": [],
   "source": [
    "palm.goto((25,140))\n",
    "grip5B.set_tip_dist(30,-10)"
   ]
  },
  {
   "cell_type": "code",
   "execution_count": null,
   "id": "f88821ed",
   "metadata": {},
   "outputs": [],
   "source": [
    "grip5B.set_tip_dist(0,-10)"
   ]
  },
  {
   "cell_type": "code",
   "execution_count": null,
   "id": "2fd6a755",
   "metadata": {},
   "outputs": [],
   "source": [
    "grip5B.set_tip_dist(0,10)"
   ]
  },
  {
   "cell_type": "code",
   "execution_count": null,
   "id": "59251c55",
   "metadata": {},
   "outputs": [],
   "source": [
    "palm.goto((0,130))\n",
    "time.sleep(0.5)\n",
    "palm.goto((0,140))"
   ]
  },
  {
   "cell_type": "code",
   "execution_count": null,
   "id": "02456a34",
   "metadata": {},
   "outputs": [],
   "source": [
    "palm.goto((-12,140))\n",
    "grip5B.set_tip_dist(30,10)\n",
    "time.sleep(0.5)\n",
    "grip5B.set_tip_dist(30,0)"
   ]
  },
  {
   "cell_type": "code",
   "execution_count": null,
   "id": "a10cdcec",
   "metadata": {},
   "outputs": [],
   "source": [
    "palm.get_pos()"
   ]
  },
  {
   "cell_type": "code",
   "execution_count": null,
   "id": "36d2aaa0",
   "metadata": {},
   "outputs": [],
   "source": [
    "palm.goto((-12,160))"
   ]
  },
  {
   "cell_type": "code",
   "execution_count": null,
   "id": "a85b171d",
   "metadata": {},
   "outputs": [],
   "source": [
    "pick_pose = (0.222, 0.49, 0.017, pi, 0, 0)\n",
    "ur.movel(pick_pose, tcp_acc, tcp_vel)"
   ]
  },
  {
   "cell_type": "code",
   "execution_count": null,
   "id": "2e76feab",
   "metadata": {},
   "outputs": [],
   "source": []
  }
 ],
 "metadata": {
  "kernelspec": {
   "display_name": "Python 3",
   "language": "python",
   "name": "python3"
  },
  "language_info": {
   "codemirror_mode": {
    "name": "ipython",
    "version": 3
   },
   "file_extension": ".py",
   "mimetype": "text/x-python",
   "name": "python",
   "nbconvert_exporter": "python",
   "pygments_lexer": "ipython3",
   "version": "3.6.13"
  }
 },
 "nbformat": 4,
 "nbformat_minor": 5
}
